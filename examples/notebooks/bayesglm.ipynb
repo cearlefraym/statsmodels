{
 "cells": [
  {
   "cell_type": "markdown",
   "metadata": {},
   "source": [
    "# Bayes GLM\n",
    "\n",
    "Using statsmodels' GLM() model with the method set to \"BIRLS\" replicates the same behavior as R's [arm::bayesglm()](https://cran.r-project.org/web/packages/arm/arm.pdf)"
   ]
  },
  {
   "cell_type": "code",
   "execution_count": null,
   "metadata": {},
   "outputs": [],
   "source": [
    "!pip install rpy2"
   ]
  },
  {
   "cell_type": "code",
   "execution_count": null,
   "metadata": {},
   "outputs": [],
   "source": [
    "!python3 -m rpy2.situation"
   ]
  },
  {
   "cell_type": "code",
   "execution_count": null,
   "metadata": {},
   "outputs": [],
   "source": [
    "import os\n",
    "\n",
    "os.environ['R_HOME'] = '/Library/Frameworks/R.framework/Resources'"
   ]
  },
  {
   "cell_type": "code",
   "execution_count": 4,
   "metadata": {},
   "outputs": [],
   "source": [
    "%load_ext rpy2.ipython"
   ]
  },
  {
   "cell_type": "code",
   "execution_count": 64,
   "metadata": {},
   "outputs": [],
   "source": [
    "import json\n",
    "\n",
    "import numpy as np\n",
    "import pandas as pd\n",
    "import rpy2.robjects as robjects\n",
    "import rpy2.robjects.packages as rpackages\n",
    "from rpy2.robjects.vectors import StrVector\n",
    "from scipy.special import expit\n",
    "\n",
    "from statsmodels.genmod import families\n",
    "from statsmodels.genmod.generalized_linear_model import GLM\n",
    "from statsmodels.tools import categorical"
   ]
  },
  {
   "cell_type": "code",
   "execution_count": 3,
   "metadata": {},
   "outputs": [],
   "source": [
    "model_families = {\n",
    "    \"gaussian\": families.Gaussian(),\n",
    "    \"logit\": families.Binomial(),  # Logit by default\n",
    "    \"probit\": families.Binomial(link=families.links.Probit()),\n",
    "    \"poisson\": families.Poisson(),\n",
    "}\n",
    "\n",
    "model_family_strings = [\n",
    "        \"gaussian\",\n",
    "        \"logit\",\n",
    "        \"probit\",\n",
    "        \"poisson\",\n",
    "    ]"
   ]
  },
  {
   "cell_type": "markdown",
   "metadata": {},
   "source": [
    "## Generate Test Data Set"
   ]
  },
  {
   "cell_type": "code",
   "execution_count": 6,
   "metadata": {},
   "outputs": [
    {
     "data": {
      "text/html": [
       "<div>\n",
       "<style scoped>\n",
       "    .dataframe tbody tr th:only-of-type {\n",
       "        vertical-align: middle;\n",
       "    }\n",
       "\n",
       "    .dataframe tbody tr th {\n",
       "        vertical-align: top;\n",
       "    }\n",
       "\n",
       "    .dataframe thead th {\n",
       "        text-align: right;\n",
       "    }\n",
       "</style>\n",
       "<table border=\"1\" class=\"dataframe\">\n",
       "  <thead>\n",
       "    <tr style=\"text-align: right;\">\n",
       "      <th></th>\n",
       "      <th>y</th>\n",
       "      <th>const</th>\n",
       "      <th>x1</th>\n",
       "      <th>x2</th>\n",
       "    </tr>\n",
       "  </thead>\n",
       "  <tbody>\n",
       "    <tr>\n",
       "      <th>0</th>\n",
       "      <td>1.0</td>\n",
       "      <td>1.0</td>\n",
       "      <td>-0.204708</td>\n",
       "      <td>0.0</td>\n",
       "    </tr>\n",
       "    <tr>\n",
       "      <th>1</th>\n",
       "      <td>1.0</td>\n",
       "      <td>1.0</td>\n",
       "      <td>0.478943</td>\n",
       "      <td>0.0</td>\n",
       "    </tr>\n",
       "    <tr>\n",
       "      <th>2</th>\n",
       "      <td>0.0</td>\n",
       "      <td>1.0</td>\n",
       "      <td>-0.519439</td>\n",
       "      <td>0.0</td>\n",
       "    </tr>\n",
       "    <tr>\n",
       "      <th>3</th>\n",
       "      <td>0.0</td>\n",
       "      <td>1.0</td>\n",
       "      <td>-0.555730</td>\n",
       "      <td>0.0</td>\n",
       "    </tr>\n",
       "    <tr>\n",
       "      <th>4</th>\n",
       "      <td>1.0</td>\n",
       "      <td>1.0</td>\n",
       "      <td>1.965781</td>\n",
       "      <td>0.0</td>\n",
       "    </tr>\n",
       "  </tbody>\n",
       "</table>\n",
       "</div>"
      ],
      "text/plain": [
       "     y  const        x1   x2\n",
       "0  1.0    1.0 -0.204708  0.0\n",
       "1  1.0    1.0  0.478943  0.0\n",
       "2  0.0    1.0 -0.519439  0.0\n",
       "3  0.0    1.0 -0.555730  0.0\n",
       "4  1.0    1.0  1.965781  0.0"
      ]
     },
     "execution_count": 6,
     "metadata": {},
     "output_type": "execute_result"
    }
   ],
   "source": [
    "np.random.seed(12345)\n",
    "n = 100\n",
    "x1 = np.random.normal(size=n)\n",
    "x2 = np.random.binomial(1, 0.5, n)\n",
    "b0 = 1\n",
    "b1 = 1.5\n",
    "b2 = 2\n",
    "const = np.ones(n)\n",
    "y = np.random.binomial(1, expit(b0 + b1 * x1 + b2 * x2), n)\n",
    "X = np.transpose(np.vstack([const, x1, x2]))\n",
    "\n",
    "df = pd.DataFrame(\n",
    "    np.hstack((y.reshape(100, 1), X.reshape(100, 3))),\n",
    "    columns=[\"y\", \"const\", \"x1\", \"x2\"],\n",
    ")\n",
    "\n",
    "df.head()"
   ]
  },
  {
   "cell_type": "code",
   "execution_count": null,
   "metadata": {},
   "outputs": [],
   "source": [
    "%%R\n",
    "install.packages(c(\"arm\", \"rjson\"))"
   ]
  },
  {
   "cell_type": "markdown",
   "metadata": {},
   "source": [
    "Pass the df generated in Python over to R, extract columns to vectors"
   ]
  },
  {
   "cell_type": "code",
   "execution_count": 8,
   "metadata": {},
   "outputs": [
    {
     "name": "stdout",
     "output_type": "stream",
     "text": [
      "  y const         x1 x2\n",
      "0 1     1 -0.2047077  0\n",
      "1 1     1  0.4789433  0\n",
      "2 0     1"
     ]
    },
    {
     "name": "stdout",
     "output_type": "stream",
     "text": [
      " -0.5194387  0\n",
      "3 0     1 -0.5557303  0\n",
      "4 1     1  1.9657806  0\n",
      "5 1     1  1.3934058  0\n"
     ]
    }
   ],
   "source": [
    "%%R -i df\n",
    "\n",
    "n <- 100\n",
    "x1 <- df$x1\n",
    "x2 <- df$x2\n",
    "y <- df$y\n",
    "\n",
    "head(df)"
   ]
  },
  {
   "cell_type": "markdown",
   "metadata": {},
   "source": [
    "Create models in R from the data generated in Python. "
   ]
  },
  {
   "cell_type": "markdown",
   "metadata": {},
   "source": [
    "## Recreate Models in R and Python\n",
    "\n",
    "The [R `arm` documentation](https://cran.r-project.org/web/packages/arm/arm.pdf) includes a few model examples that are replicated here. Where the docs compare the `arm` output to the `glm` output, this notebook compares R's implementation to the proposed Pythonic implementation where possible. Note that where the R implementation calls `arm::bayesglm`, the Pythonic implementation will call `GLM(...).fit(method=\"BIRLS\"...)`"
   ]
  },
  {
   "cell_type": "markdown",
   "metadata": {},
   "source": [
    "### Standard GLMs"
   ]
  },
  {
   "cell_type": "markdown",
   "metadata": {},
   "source": [
    "In R build a standard GLM, compare to a standard GLM implementation in `statsmodels`. Compare outputs between R implementation and Python implementation throughout thi example notebook. "
   ]
  },
  {
   "cell_type": "code",
   "execution_count": 9,
   "metadata": {},
   "outputs": [
    {
     "name": "stdout",
     "output_type": "stream",
     "text": [
      "glm(formula = y ~ x1 + x2, family = binomial(link = \"logit\"))\n",
      "            coef.est coef.se\n",
      "(Intercept) 1.20     0.36   \n",
      "x1          1.30     0.36   \n",
      "x2          2.12     0.76   \n",
      "---\n",
      "  n = 100, k = 3\n",
      "  residual deviance = 69.4, null deviance = 94.3 (difference = 24.9)\n"
     ]
    }
   ],
   "source": [
    "%%R\n",
    "M1 <- glm (y ~ x1 + x2, family=binomial(link=\"logit\"))\n",
    "arm::display (M1)"
   ]
  },
  {
   "cell_type": "code",
   "execution_count": 10,
   "metadata": {},
   "outputs": [
    {
     "data": {
      "text/html": [
       "<table class=\"simpletable\">\n",
       "<caption>Generalized Linear Model Regression Results</caption>\n",
       "<tr>\n",
       "  <th>Dep. Variable:</th>           <td>y</td>        <th>  No. Observations:  </th>  <td>   100</td> \n",
       "</tr>\n",
       "<tr>\n",
       "  <th>Model:</th>                  <td>GLM</td>       <th>  Df Residuals:      </th>  <td>    97</td> \n",
       "</tr>\n",
       "<tr>\n",
       "  <th>Model Family:</th>        <td>Binomial</td>     <th>  Df Model:          </th>  <td>     2</td> \n",
       "</tr>\n",
       "<tr>\n",
       "  <th>Link Function:</th>         <td>Logit</td>      <th>  Scale:             </th> <td>  1.0000</td>\n",
       "</tr>\n",
       "<tr>\n",
       "  <th>Method:</th>                <td>IRLS</td>       <th>  Log-Likelihood:    </th> <td> -34.684</td>\n",
       "</tr>\n",
       "<tr>\n",
       "  <th>Date:</th>            <td>Sat, 27 Apr 2024</td> <th>  Deviance:          </th> <td>  69.367</td>\n",
       "</tr>\n",
       "<tr>\n",
       "  <th>Time:</th>                <td>09:10:57</td>     <th>  Pearson chi2:      </th>  <td>  76.7</td> \n",
       "</tr>\n",
       "<tr>\n",
       "  <th>No. Iterations:</th>          <td>6</td>        <th>  Pseudo R-squ. (CS):</th>  <td>0.2205</td> \n",
       "</tr>\n",
       "<tr>\n",
       "  <th>Covariance Type:</th>     <td>nonrobust</td>    <th>                     </th>     <td> </td>   \n",
       "</tr>\n",
       "</table>\n",
       "<table class=\"simpletable\">\n",
       "<tr>\n",
       "    <td></td>       <th>coef</th>     <th>std err</th>      <th>z</th>      <th>P>|z|</th>  <th>[0.025</th>    <th>0.975]</th>  \n",
       "</tr>\n",
       "<tr>\n",
       "  <th>const</th> <td>    1.2002</td> <td>    0.365</td> <td>    3.289</td> <td> 0.001</td> <td>    0.485</td> <td>    1.915</td>\n",
       "</tr>\n",
       "<tr>\n",
       "  <th>x1</th>    <td>    1.2958</td> <td>    0.363</td> <td>    3.566</td> <td> 0.000</td> <td>    0.584</td> <td>    2.008</td>\n",
       "</tr>\n",
       "<tr>\n",
       "  <th>x2</th>    <td>    2.1160</td> <td>    0.758</td> <td>    2.790</td> <td> 0.005</td> <td>    0.630</td> <td>    3.602</td>\n",
       "</tr>\n",
       "</table>"
      ],
      "text/latex": [
       "\\begin{center}\n",
       "\\begin{tabular}{lclc}\n",
       "\\toprule\n",
       "\\textbf{Dep. Variable:}   &        y         & \\textbf{  No. Observations:  } &      100    \\\\\n",
       "\\textbf{Model:}           &       GLM        & \\textbf{  Df Residuals:      } &       97    \\\\\n",
       "\\textbf{Model Family:}    &     Binomial     & \\textbf{  Df Model:          } &        2    \\\\\n",
       "\\textbf{Link Function:}   &      Logit       & \\textbf{  Scale:             } &    1.0000   \\\\\n",
       "\\textbf{Method:}          &       IRLS       & \\textbf{  Log-Likelihood:    } &   -34.684   \\\\\n",
       "\\textbf{Date:}            & Sat, 27 Apr 2024 & \\textbf{  Deviance:          } &    69.367   \\\\\n",
       "\\textbf{Time:}            &     09:10:57     & \\textbf{  Pearson chi2:      } &     76.7    \\\\\n",
       "\\textbf{No. Iterations:}  &        6         & \\textbf{  Pseudo R-squ. (CS):} &   0.2205    \\\\\n",
       "\\textbf{Covariance Type:} &    nonrobust     & \\textbf{                     } &             \\\\\n",
       "\\bottomrule\n",
       "\\end{tabular}\n",
       "\\begin{tabular}{lcccccc}\n",
       "               & \\textbf{coef} & \\textbf{std err} & \\textbf{z} & \\textbf{P$> |$z$|$} & \\textbf{[0.025} & \\textbf{0.975]}  \\\\\n",
       "\\midrule\n",
       "\\textbf{const} &       1.2002  &        0.365     &     3.289  &         0.001        &        0.485    &        1.915     \\\\\n",
       "\\textbf{x1}    &       1.2958  &        0.363     &     3.566  &         0.000        &        0.584    &        2.008     \\\\\n",
       "\\textbf{x2}    &       2.1160  &        0.758     &     2.790  &         0.005        &        0.630    &        3.602     \\\\\n",
       "\\bottomrule\n",
       "\\end{tabular}\n",
       "%\\caption{Generalized Linear Model Regression Results}\n",
       "\\end{center}"
      ],
      "text/plain": [
       "<class 'statsmodels.iolib.summary.Summary'>\n",
       "\"\"\"\n",
       "                 Generalized Linear Model Regression Results                  \n",
       "==============================================================================\n",
       "Dep. Variable:                      y   No. Observations:                  100\n",
       "Model:                            GLM   Df Residuals:                       97\n",
       "Model Family:                Binomial   Df Model:                            2\n",
       "Link Function:                  Logit   Scale:                          1.0000\n",
       "Method:                          IRLS   Log-Likelihood:                -34.684\n",
       "Date:                Sat, 27 Apr 2024   Deviance:                       69.367\n",
       "Time:                        09:10:57   Pearson chi2:                     76.7\n",
       "No. Iterations:                     6   Pseudo R-squ. (CS):             0.2205\n",
       "Covariance Type:            nonrobust                                         \n",
       "==============================================================================\n",
       "                 coef    std err          z      P>|z|      [0.025      0.975]\n",
       "------------------------------------------------------------------------------\n",
       "const          1.2002      0.365      3.289      0.001       0.485       1.915\n",
       "x1             1.2958      0.363      3.566      0.000       0.584       2.008\n",
       "x2             2.1160      0.758      2.790      0.005       0.630       3.602\n",
       "==============================================================================\n",
       "\"\"\""
      ]
     },
     "execution_count": 10,
     "metadata": {},
     "output_type": "execute_result"
    }
   ],
   "source": [
    "M1 = GLM(endog = df.y, exog = df.drop(columns = \"y\"), family = families.Binomial()).fit()\n",
    "M1.summary()"
   ]
  },
  {
   "cell_type": "markdown",
   "metadata": {},
   "source": [
    "### Standard GLMs with infinite priors"
   ]
  },
  {
   "cell_type": "code",
   "execution_count": 11,
   "metadata": {},
   "outputs": [
    {
     "name": "stdout",
     "output_type": "stream",
     "text": [
      "arm::bayesglm(formula = y ~ x1 + x2, family = binomial(link = \"logit\"), \n",
      "    prior.scale = Inf, prior.df = Inf)\n",
      "            coef.est"
     ]
    },
    {
     "name": "stdout",
     "output_type": "stream",
     "text": [
      " coef.se\n",
      "(Intercept) 1.20     0.36   \n",
      "x1          1.29     0.36   \n",
      "x2          2.11     0.76   \n",
      "---\n",
      "n = 100, k = 3\n",
      "residual deviance = 69.4, null deviance = 94.3 (difference = 24.9)\n"
     ]
    }
   ],
   "source": [
    "%%R\n",
    "M2 <- arm::bayesglm (y ~ x1 + x2, family=binomial(link=\"logit\"),\n",
    "prior.scale=Inf, prior.df=Inf)\n",
    "arm::display (M2) # just a test: this should be identical to classical logit"
   ]
  },
  {
   "cell_type": "code",
   "execution_count": 12,
   "metadata": {},
   "outputs": [
    {
     "data": {
      "text/html": [
       "<table class=\"simpletable\">\n",
       "<caption>Generalized Linear Model Regression Results</caption>\n",
       "<tr>\n",
       "  <th>Dep. Variable:</th>           <td>y</td>        <th>  No. Observations:  </th>  <td>   100</td> \n",
       "</tr>\n",
       "<tr>\n",
       "  <th>Model:</th>                  <td>GLM</td>       <th>  Df Residuals:      </th>  <td>    97</td> \n",
       "</tr>\n",
       "<tr>\n",
       "  <th>Model Family:</th>        <td>Binomial</td>     <th>  Df Model:          </th>  <td>     2</td> \n",
       "</tr>\n",
       "<tr>\n",
       "  <th>Link Function:</th>         <td>Logit</td>      <th>  Scale:             </th> <td>  1.0000</td>\n",
       "</tr>\n",
       "<tr>\n",
       "  <th>Method:</th>                <td>BIRLS</td>      <th>  Log-Likelihood:    </th> <td> -34.684</td>\n",
       "</tr>\n",
       "<tr>\n",
       "  <th>Date:</th>            <td>Sat, 27 Apr 2024</td> <th>  Deviance:          </th> <td>  69.367</td>\n",
       "</tr>\n",
       "<tr>\n",
       "  <th>Time:</th>                <td>09:18:09</td>     <th>  Pearson chi2:      </th>  <td>  76.6</td> \n",
       "</tr>\n",
       "<tr>\n",
       "  <th>No. Iterations:</th>          <td>6</td>        <th>  Pseudo R-squ. (CS):</th>  <td>0.2205</td> \n",
       "</tr>\n",
       "<tr>\n",
       "  <th>Covariance Type:</th>     <td>nonrobust</td>    <th>                     </th>     <td> </td>   \n",
       "</tr>\n",
       "</table>\n",
       "<table class=\"simpletable\">\n",
       "<tr>\n",
       "    <td></td>       <th>coef</th>     <th>std err</th>      <th>z</th>      <th>P>|z|</th>  <th>[0.025</th>    <th>0.975]</th>  \n",
       "</tr>\n",
       "<tr>\n",
       "  <th>const</th> <td>    1.1982</td> <td>    0.364</td> <td>    3.288</td> <td> 0.001</td> <td>    0.484</td> <td>    1.913</td>\n",
       "</tr>\n",
       "<tr>\n",
       "  <th>x1</th>    <td>    1.2941</td> <td>    0.363</td> <td>    3.566</td> <td> 0.000</td> <td>    0.583</td> <td>    2.005</td>\n",
       "</tr>\n",
       "<tr>\n",
       "  <th>x2</th>    <td>    2.1127</td> <td>    0.757</td> <td>    2.790</td> <td> 0.005</td> <td>    0.629</td> <td>    3.597</td>\n",
       "</tr>\n",
       "</table>"
      ],
      "text/latex": [
       "\\begin{center}\n",
       "\\begin{tabular}{lclc}\n",
       "\\toprule\n",
       "\\textbf{Dep. Variable:}   &        y         & \\textbf{  No. Observations:  } &      100    \\\\\n",
       "\\textbf{Model:}           &       GLM        & \\textbf{  Df Residuals:      } &       97    \\\\\n",
       "\\textbf{Model Family:}    &     Binomial     & \\textbf{  Df Model:          } &        2    \\\\\n",
       "\\textbf{Link Function:}   &      Logit       & \\textbf{  Scale:             } &    1.0000   \\\\\n",
       "\\textbf{Method:}          &      BIRLS       & \\textbf{  Log-Likelihood:    } &   -34.684   \\\\\n",
       "\\textbf{Date:}            & Sat, 27 Apr 2024 & \\textbf{  Deviance:          } &    69.367   \\\\\n",
       "\\textbf{Time:}            &     09:18:09     & \\textbf{  Pearson chi2:      } &     76.6    \\\\\n",
       "\\textbf{No. Iterations:}  &        6         & \\textbf{  Pseudo R-squ. (CS):} &   0.2205    \\\\\n",
       "\\textbf{Covariance Type:} &    nonrobust     & \\textbf{                     } &             \\\\\n",
       "\\bottomrule\n",
       "\\end{tabular}\n",
       "\\begin{tabular}{lcccccc}\n",
       "               & \\textbf{coef} & \\textbf{std err} & \\textbf{z} & \\textbf{P$> |$z$|$} & \\textbf{[0.025} & \\textbf{0.975]}  \\\\\n",
       "\\midrule\n",
       "\\textbf{const} &       1.1982  &        0.364     &     3.288  &         0.001        &        0.484    &        1.913     \\\\\n",
       "\\textbf{x1}    &       1.2941  &        0.363     &     3.566  &         0.000        &        0.583    &        2.005     \\\\\n",
       "\\textbf{x2}    &       2.1127  &        0.757     &     2.790  &         0.005        &        0.629    &        3.597     \\\\\n",
       "\\bottomrule\n",
       "\\end{tabular}\n",
       "%\\caption{Generalized Linear Model Regression Results}\n",
       "\\end{center}"
      ],
      "text/plain": [
       "<class 'statsmodels.iolib.summary.Summary'>\n",
       "\"\"\"\n",
       "                 Generalized Linear Model Regression Results                  \n",
       "==============================================================================\n",
       "Dep. Variable:                      y   No. Observations:                  100\n",
       "Model:                            GLM   Df Residuals:                       97\n",
       "Model Family:                Binomial   Df Model:                            2\n",
       "Link Function:                  Logit   Scale:                          1.0000\n",
       "Method:                         BIRLS   Log-Likelihood:                -34.684\n",
       "Date:                Sat, 27 Apr 2024   Deviance:                       69.367\n",
       "Time:                        09:18:09   Pearson chi2:                     76.6\n",
       "No. Iterations:                     6   Pseudo R-squ. (CS):             0.2205\n",
       "Covariance Type:            nonrobust                                         \n",
       "==============================================================================\n",
       "                 coef    std err          z      P>|z|      [0.025      0.975]\n",
       "------------------------------------------------------------------------------\n",
       "const          1.1982      0.364      3.288      0.001       0.484       1.913\n",
       "x1             1.2941      0.363      3.566      0.000       0.583       2.005\n",
       "x2             2.1127      0.757      2.790      0.005       0.629       3.597\n",
       "==============================================================================\n",
       "\"\"\""
      ]
     },
     "execution_count": 12,
     "metadata": {},
     "output_type": "execute_result"
    }
   ],
   "source": [
    "M2 = GLM(endog = df.y,\n",
    "         exog = df.drop(columns = \"y\"),\n",
    "         family = families.Binomial()).fit(method = \"BIRLS\",\n",
    "                                           prior_scale = np.inf,\n",
    "                                           prior_df = np.inf)\n",
    "M2.summary()"
   ]
  },
  {
   "cell_type": "markdown",
   "metadata": {},
   "source": [
    "### BGLM default cauchy prior scale 2.5"
   ]
  },
  {
   "cell_type": "code",
   "execution_count": 13,
   "metadata": {},
   "outputs": [
    {
     "name": "stdout",
     "output_type": "stream",
     "text": [
      "arm::bayesglm(formula = y ~ x1 + x2, family = binomial(link = \"logit\"))\n",
      "            coef.est coef.se\n",
      "(Intercept) 1.20     0.35   \n",
      "x1          1.17     0.33   \n",
      "x2          1.85     0.68   \n",
      "---\n",
      "n = 100, k = 3\n",
      "residual deviance = 69.6, null deviance = 94.3 (difference = 24.7)\n"
     ]
    }
   ],
   "source": [
    "%%R\n",
    "M3 <- arm::bayesglm (y ~ x1 + x2, family=binomial(link=\"logit\"))\n",
    "# default Cauchy prior with scale 2.5\n",
    "arm::display (M3)"
   ]
  },
  {
   "cell_type": "code",
   "execution_count": 14,
   "metadata": {},
   "outputs": [
    {
     "data": {
      "text/html": [
       "<table class=\"simpletable\">\n",
       "<caption>Generalized Linear Model Regression Results</caption>\n",
       "<tr>\n",
       "  <th>Dep. Variable:</th>           <td>y</td>        <th>  No. Observations:  </th>  <td>   100</td> \n",
       "</tr>\n",
       "<tr>\n",
       "  <th>Model:</th>                  <td>GLM</td>       <th>  Df Residuals:      </th>  <td>    97</td> \n",
       "</tr>\n",
       "<tr>\n",
       "  <th>Model Family:</th>        <td>Binomial</td>     <th>  Df Model:          </th>  <td>     2</td> \n",
       "</tr>\n",
       "<tr>\n",
       "  <th>Link Function:</th>         <td>Logit</td>      <th>  Scale:             </th> <td>  1.0000</td>\n",
       "</tr>\n",
       "<tr>\n",
       "  <th>Method:</th>                <td>BIRLS</td>      <th>  Log-Likelihood:    </th> <td> -34.783</td>\n",
       "</tr>\n",
       "<tr>\n",
       "  <th>Date:</th>            <td>Sat, 27 Apr 2024</td> <th>  Deviance:          </th> <td>  69.566</td>\n",
       "</tr>\n",
       "<tr>\n",
       "  <th>Time:</th>                <td>09:18:18</td>     <th>  Pearson chi2:      </th>  <td>  72.5</td> \n",
       "</tr>\n",
       "<tr>\n",
       "  <th>No. Iterations:</th>         <td>12</td>        <th>  Pseudo R-squ. (CS):</th>  <td>0.2190</td> \n",
       "</tr>\n",
       "<tr>\n",
       "  <th>Covariance Type:</th>     <td>nonrobust</td>    <th>                     </th>     <td> </td>   \n",
       "</tr>\n",
       "</table>\n",
       "<table class=\"simpletable\">\n",
       "<tr>\n",
       "    <td></td>       <th>coef</th>     <th>std err</th>      <th>z</th>      <th>P>|z|</th>  <th>[0.025</th>    <th>0.975]</th>  \n",
       "</tr>\n",
       "<tr>\n",
       "  <th>const</th> <td>    1.2029</td> <td>    0.354</td> <td>    3.401</td> <td> 0.001</td> <td>    0.510</td> <td>    1.896</td>\n",
       "</tr>\n",
       "<tr>\n",
       "  <th>x1</th>    <td>    1.1667</td> <td>    0.327</td> <td>    3.564</td> <td> 0.000</td> <td>    0.525</td> <td>    1.808</td>\n",
       "</tr>\n",
       "<tr>\n",
       "  <th>x2</th>    <td>    1.8542</td> <td>    0.678</td> <td>    2.737</td> <td> 0.006</td> <td>    0.526</td> <td>    3.182</td>\n",
       "</tr>\n",
       "</table>"
      ],
      "text/latex": [
       "\\begin{center}\n",
       "\\begin{tabular}{lclc}\n",
       "\\toprule\n",
       "\\textbf{Dep. Variable:}   &        y         & \\textbf{  No. Observations:  } &      100    \\\\\n",
       "\\textbf{Model:}           &       GLM        & \\textbf{  Df Residuals:      } &       97    \\\\\n",
       "\\textbf{Model Family:}    &     Binomial     & \\textbf{  Df Model:          } &        2    \\\\\n",
       "\\textbf{Link Function:}   &      Logit       & \\textbf{  Scale:             } &    1.0000   \\\\\n",
       "\\textbf{Method:}          &      BIRLS       & \\textbf{  Log-Likelihood:    } &   -34.783   \\\\\n",
       "\\textbf{Date:}            & Sat, 27 Apr 2024 & \\textbf{  Deviance:          } &    69.566   \\\\\n",
       "\\textbf{Time:}            &     09:18:18     & \\textbf{  Pearson chi2:      } &     72.5    \\\\\n",
       "\\textbf{No. Iterations:}  &        12        & \\textbf{  Pseudo R-squ. (CS):} &   0.2190    \\\\\n",
       "\\textbf{Covariance Type:} &    nonrobust     & \\textbf{                     } &             \\\\\n",
       "\\bottomrule\n",
       "\\end{tabular}\n",
       "\\begin{tabular}{lcccccc}\n",
       "               & \\textbf{coef} & \\textbf{std err} & \\textbf{z} & \\textbf{P$> |$z$|$} & \\textbf{[0.025} & \\textbf{0.975]}  \\\\\n",
       "\\midrule\n",
       "\\textbf{const} &       1.2029  &        0.354     &     3.401  &         0.001        &        0.510    &        1.896     \\\\\n",
       "\\textbf{x1}    &       1.1667  &        0.327     &     3.564  &         0.000        &        0.525    &        1.808     \\\\\n",
       "\\textbf{x2}    &       1.8542  &        0.678     &     2.737  &         0.006        &        0.526    &        3.182     \\\\\n",
       "\\bottomrule\n",
       "\\end{tabular}\n",
       "%\\caption{Generalized Linear Model Regression Results}\n",
       "\\end{center}"
      ],
      "text/plain": [
       "<class 'statsmodels.iolib.summary.Summary'>\n",
       "\"\"\"\n",
       "                 Generalized Linear Model Regression Results                  \n",
       "==============================================================================\n",
       "Dep. Variable:                      y   No. Observations:                  100\n",
       "Model:                            GLM   Df Residuals:                       97\n",
       "Model Family:                Binomial   Df Model:                            2\n",
       "Link Function:                  Logit   Scale:                          1.0000\n",
       "Method:                         BIRLS   Log-Likelihood:                -34.783\n",
       "Date:                Sat, 27 Apr 2024   Deviance:                       69.566\n",
       "Time:                        09:18:18   Pearson chi2:                     72.5\n",
       "No. Iterations:                    12   Pseudo R-squ. (CS):             0.2190\n",
       "Covariance Type:            nonrobust                                         \n",
       "==============================================================================\n",
       "                 coef    std err          z      P>|z|      [0.025      0.975]\n",
       "------------------------------------------------------------------------------\n",
       "const          1.2029      0.354      3.401      0.001       0.510       1.896\n",
       "x1             1.1667      0.327      3.564      0.000       0.525       1.808\n",
       "x2             1.8542      0.678      2.737      0.006       0.526       3.182\n",
       "==============================================================================\n",
       "\"\"\""
      ]
     },
     "execution_count": 14,
     "metadata": {},
     "output_type": "execute_result"
    }
   ],
   "source": [
    "M3 = GLM(endog = df.y,\n",
    "         exog = df.drop(columns = \"y\"),\n",
    "         family = families.Binomial()).fit(method = \"BIRLS\")\n",
    "M3.summary()"
   ]
  },
  {
   "cell_type": "markdown",
   "metadata": {},
   "source": [
    "### BGLM explicitly specify Cauchy prior, scale 2.5"
   ]
  },
  {
   "cell_type": "code",
   "execution_count": 15,
   "metadata": {},
   "outputs": [
    {
     "name": "stdout",
     "output_type": "stream",
     "text": [
      "arm::bayesglm(formula = y ~ x1 + x2, family = binomial(link = \"logit\"), \n",
      "    prior.scale = 2.5, prior.df = 1)\n",
      "            coef.est coef.se\n",
      "(Intercept) 1.20     0.35   \n",
      "x1          1.17     0.33   \n",
      "x2          1.85     0.68   \n",
      "---\n",
      "n = 100, k = 3\n",
      "residual deviance = 69.6, null deviance = 94.3 (difference = 24.7)\n"
     ]
    }
   ],
   "source": [
    "%%R\n",
    "M4 <- arm::bayesglm (y ~ x1 + x2, family=binomial(link=\"logit\"),\n",
    "prior.scale=2.5, prior.df=1)\n",
    "# Same as M3, explicitly specifying Cauchy prior with scale 2.5\n",
    "arm::display (M4)"
   ]
  },
  {
   "cell_type": "code",
   "execution_count": 16,
   "metadata": {},
   "outputs": [
    {
     "data": {
      "text/html": [
       "<table class=\"simpletable\">\n",
       "<caption>Generalized Linear Model Regression Results</caption>\n",
       "<tr>\n",
       "  <th>Dep. Variable:</th>           <td>y</td>        <th>  No. Observations:  </th>  <td>   100</td> \n",
       "</tr>\n",
       "<tr>\n",
       "  <th>Model:</th>                  <td>GLM</td>       <th>  Df Residuals:      </th>  <td>    97</td> \n",
       "</tr>\n",
       "<tr>\n",
       "  <th>Model Family:</th>        <td>Binomial</td>     <th>  Df Model:          </th>  <td>     2</td> \n",
       "</tr>\n",
       "<tr>\n",
       "  <th>Link Function:</th>         <td>Logit</td>      <th>  Scale:             </th> <td>  1.0000</td>\n",
       "</tr>\n",
       "<tr>\n",
       "  <th>Method:</th>                <td>BIRLS</td>      <th>  Log-Likelihood:    </th> <td> -34.783</td>\n",
       "</tr>\n",
       "<tr>\n",
       "  <th>Date:</th>            <td>Sat, 27 Apr 2024</td> <th>  Deviance:          </th> <td>  69.566</td>\n",
       "</tr>\n",
       "<tr>\n",
       "  <th>Time:</th>                <td>09:18:24</td>     <th>  Pearson chi2:      </th>  <td>  72.5</td> \n",
       "</tr>\n",
       "<tr>\n",
       "  <th>No. Iterations:</th>         <td>12</td>        <th>  Pseudo R-squ. (CS):</th>  <td>0.2190</td> \n",
       "</tr>\n",
       "<tr>\n",
       "  <th>Covariance Type:</th>     <td>nonrobust</td>    <th>                     </th>     <td> </td>   \n",
       "</tr>\n",
       "</table>\n",
       "<table class=\"simpletable\">\n",
       "<tr>\n",
       "    <td></td>       <th>coef</th>     <th>std err</th>      <th>z</th>      <th>P>|z|</th>  <th>[0.025</th>    <th>0.975]</th>  \n",
       "</tr>\n",
       "<tr>\n",
       "  <th>const</th> <td>    1.2029</td> <td>    0.354</td> <td>    3.401</td> <td> 0.001</td> <td>    0.510</td> <td>    1.896</td>\n",
       "</tr>\n",
       "<tr>\n",
       "  <th>x1</th>    <td>    1.1667</td> <td>    0.327</td> <td>    3.564</td> <td> 0.000</td> <td>    0.525</td> <td>    1.808</td>\n",
       "</tr>\n",
       "<tr>\n",
       "  <th>x2</th>    <td>    1.8542</td> <td>    0.678</td> <td>    2.737</td> <td> 0.006</td> <td>    0.526</td> <td>    3.182</td>\n",
       "</tr>\n",
       "</table>"
      ],
      "text/latex": [
       "\\begin{center}\n",
       "\\begin{tabular}{lclc}\n",
       "\\toprule\n",
       "\\textbf{Dep. Variable:}   &        y         & \\textbf{  No. Observations:  } &      100    \\\\\n",
       "\\textbf{Model:}           &       GLM        & \\textbf{  Df Residuals:      } &       97    \\\\\n",
       "\\textbf{Model Family:}    &     Binomial     & \\textbf{  Df Model:          } &        2    \\\\\n",
       "\\textbf{Link Function:}   &      Logit       & \\textbf{  Scale:             } &    1.0000   \\\\\n",
       "\\textbf{Method:}          &      BIRLS       & \\textbf{  Log-Likelihood:    } &   -34.783   \\\\\n",
       "\\textbf{Date:}            & Sat, 27 Apr 2024 & \\textbf{  Deviance:          } &    69.566   \\\\\n",
       "\\textbf{Time:}            &     09:18:24     & \\textbf{  Pearson chi2:      } &     72.5    \\\\\n",
       "\\textbf{No. Iterations:}  &        12        & \\textbf{  Pseudo R-squ. (CS):} &   0.2190    \\\\\n",
       "\\textbf{Covariance Type:} &    nonrobust     & \\textbf{                     } &             \\\\\n",
       "\\bottomrule\n",
       "\\end{tabular}\n",
       "\\begin{tabular}{lcccccc}\n",
       "               & \\textbf{coef} & \\textbf{std err} & \\textbf{z} & \\textbf{P$> |$z$|$} & \\textbf{[0.025} & \\textbf{0.975]}  \\\\\n",
       "\\midrule\n",
       "\\textbf{const} &       1.2029  &        0.354     &     3.401  &         0.001        &        0.510    &        1.896     \\\\\n",
       "\\textbf{x1}    &       1.1667  &        0.327     &     3.564  &         0.000        &        0.525    &        1.808     \\\\\n",
       "\\textbf{x2}    &       1.8542  &        0.678     &     2.737  &         0.006        &        0.526    &        3.182     \\\\\n",
       "\\bottomrule\n",
       "\\end{tabular}\n",
       "%\\caption{Generalized Linear Model Regression Results}\n",
       "\\end{center}"
      ],
      "text/plain": [
       "<class 'statsmodels.iolib.summary.Summary'>\n",
       "\"\"\"\n",
       "                 Generalized Linear Model Regression Results                  \n",
       "==============================================================================\n",
       "Dep. Variable:                      y   No. Observations:                  100\n",
       "Model:                            GLM   Df Residuals:                       97\n",
       "Model Family:                Binomial   Df Model:                            2\n",
       "Link Function:                  Logit   Scale:                          1.0000\n",
       "Method:                         BIRLS   Log-Likelihood:                -34.783\n",
       "Date:                Sat, 27 Apr 2024   Deviance:                       69.566\n",
       "Time:                        09:18:24   Pearson chi2:                     72.5\n",
       "No. Iterations:                    12   Pseudo R-squ. (CS):             0.2190\n",
       "Covariance Type:            nonrobust                                         \n",
       "==============================================================================\n",
       "                 coef    std err          z      P>|z|      [0.025      0.975]\n",
       "------------------------------------------------------------------------------\n",
       "const          1.2029      0.354      3.401      0.001       0.510       1.896\n",
       "x1             1.1667      0.327      3.564      0.000       0.525       1.808\n",
       "x2             1.8542      0.678      2.737      0.006       0.526       3.182\n",
       "==============================================================================\n",
       "\"\"\""
      ]
     },
     "execution_count": 16,
     "metadata": {},
     "output_type": "execute_result"
    }
   ],
   "source": [
    "M4 = GLM(endog = df.y,\n",
    "         exog = df.drop(columns = \"y\"),\n",
    "         family = families.Binomial()).fit(method = \"BIRLS\",\n",
    "                                           prior_scale = 2.5,\n",
    "                                           prior_df = 1)\n",
    "M4.summary()"
   ]
  },
  {
   "cell_type": "markdown",
   "metadata": {},
   "source": [
    "### BGLM explicitly specify Cauchy prior, scale 2.5 and t7"
   ]
  },
  {
   "cell_type": "code",
   "execution_count": 17,
   "metadata": {},
   "outputs": [
    {
     "name": "stdout",
     "output_type": "stream",
     "text": [
      "arm::bayesglm(formula = y ~ x1 + x2, family = binomial(link = \"logit\"), \n",
      "    prior.scale = 2.5, prior.df = 7)\n",
      "            coef.est coef.se\n",
      "(Intercept) 1.20     0.35   \n",
      "x1          1.17     0.33   \n",
      "x2          1.88     0.69   \n",
      "---\n",
      "n = 100, k = 3\n",
      "residual deviance = 69.5, null deviance = 94.3 (difference = 24.7)\n"
     ]
    }
   ],
   "source": [
    "%%R\n",
    "M5 <- arm::bayesglm (y ~ x1 + x2, family=binomial(link=\"logit\"),\n",
    "prior.scale=2.5, prior.df=7) # t_7 prior with scale 2.5\n",
    "arm::display (M5)"
   ]
  },
  {
   "cell_type": "code",
   "execution_count": 18,
   "metadata": {},
   "outputs": [
    {
     "data": {
      "text/html": [
       "<table class=\"simpletable\">\n",
       "<caption>Generalized Linear Model Regression Results</caption>\n",
       "<tr>\n",
       "  <th>Dep. Variable:</th>           <td>y</td>        <th>  No. Observations:  </th>  <td>   100</td> \n",
       "</tr>\n",
       "<tr>\n",
       "  <th>Model:</th>                  <td>GLM</td>       <th>  Df Residuals:      </th>  <td>    97</td> \n",
       "</tr>\n",
       "<tr>\n",
       "  <th>Model Family:</th>        <td>Binomial</td>     <th>  Df Model:          </th>  <td>     2</td> \n",
       "</tr>\n",
       "<tr>\n",
       "  <th>Link Function:</th>         <td>Logit</td>      <th>  Scale:             </th> <td>  1.0000</td>\n",
       "</tr>\n",
       "<tr>\n",
       "  <th>Method:</th>                <td>BIRLS</td>      <th>  Log-Likelihood:    </th> <td> -34.772</td>\n",
       "</tr>\n",
       "<tr>\n",
       "  <th>Date:</th>            <td>Sat, 27 Apr 2024</td> <th>  Deviance:          </th> <td>  69.544</td>\n",
       "</tr>\n",
       "<tr>\n",
       "  <th>Time:</th>                <td>09:18:32</td>     <th>  Pearson chi2:      </th>  <td>  72.8</td> \n",
       "</tr>\n",
       "<tr>\n",
       "  <th>No. Iterations:</th>          <td>9</td>        <th>  Pseudo R-squ. (CS):</th>  <td>0.2191</td> \n",
       "</tr>\n",
       "<tr>\n",
       "  <th>Covariance Type:</th>     <td>nonrobust</td>    <th>                     </th>     <td> </td>   \n",
       "</tr>\n",
       "</table>\n",
       "<table class=\"simpletable\">\n",
       "<tr>\n",
       "    <td></td>       <th>coef</th>     <th>std err</th>      <th>z</th>      <th>P>|z|</th>  <th>[0.025</th>    <th>0.975]</th>  \n",
       "</tr>\n",
       "<tr>\n",
       "  <th>const</th> <td>    1.1977</td> <td>    0.354</td> <td>    3.385</td> <td> 0.001</td> <td>    0.504</td> <td>    1.891</td>\n",
       "</tr>\n",
       "<tr>\n",
       "  <th>x1</th>    <td>    1.1692</td> <td>    0.328</td> <td>    3.565</td> <td> 0.000</td> <td>    0.526</td> <td>    1.812</td>\n",
       "</tr>\n",
       "<tr>\n",
       "  <th>x2</th>    <td>    1.8796</td> <td>    0.686</td> <td>    2.742</td> <td> 0.006</td> <td>    0.536</td> <td>    3.223</td>\n",
       "</tr>\n",
       "</table>"
      ],
      "text/latex": [
       "\\begin{center}\n",
       "\\begin{tabular}{lclc}\n",
       "\\toprule\n",
       "\\textbf{Dep. Variable:}   &        y         & \\textbf{  No. Observations:  } &      100    \\\\\n",
       "\\textbf{Model:}           &       GLM        & \\textbf{  Df Residuals:      } &       97    \\\\\n",
       "\\textbf{Model Family:}    &     Binomial     & \\textbf{  Df Model:          } &        2    \\\\\n",
       "\\textbf{Link Function:}   &      Logit       & \\textbf{  Scale:             } &    1.0000   \\\\\n",
       "\\textbf{Method:}          &      BIRLS       & \\textbf{  Log-Likelihood:    } &   -34.772   \\\\\n",
       "\\textbf{Date:}            & Sat, 27 Apr 2024 & \\textbf{  Deviance:          } &    69.544   \\\\\n",
       "\\textbf{Time:}            &     09:18:32     & \\textbf{  Pearson chi2:      } &     72.8    \\\\\n",
       "\\textbf{No. Iterations:}  &        9         & \\textbf{  Pseudo R-squ. (CS):} &   0.2191    \\\\\n",
       "\\textbf{Covariance Type:} &    nonrobust     & \\textbf{                     } &             \\\\\n",
       "\\bottomrule\n",
       "\\end{tabular}\n",
       "\\begin{tabular}{lcccccc}\n",
       "               & \\textbf{coef} & \\textbf{std err} & \\textbf{z} & \\textbf{P$> |$z$|$} & \\textbf{[0.025} & \\textbf{0.975]}  \\\\\n",
       "\\midrule\n",
       "\\textbf{const} &       1.1977  &        0.354     &     3.385  &         0.001        &        0.504    &        1.891     \\\\\n",
       "\\textbf{x1}    &       1.1692  &        0.328     &     3.565  &         0.000        &        0.526    &        1.812     \\\\\n",
       "\\textbf{x2}    &       1.8796  &        0.686     &     2.742  &         0.006        &        0.536    &        3.223     \\\\\n",
       "\\bottomrule\n",
       "\\end{tabular}\n",
       "%\\caption{Generalized Linear Model Regression Results}\n",
       "\\end{center}"
      ],
      "text/plain": [
       "<class 'statsmodels.iolib.summary.Summary'>\n",
       "\"\"\"\n",
       "                 Generalized Linear Model Regression Results                  \n",
       "==============================================================================\n",
       "Dep. Variable:                      y   No. Observations:                  100\n",
       "Model:                            GLM   Df Residuals:                       97\n",
       "Model Family:                Binomial   Df Model:                            2\n",
       "Link Function:                  Logit   Scale:                          1.0000\n",
       "Method:                         BIRLS   Log-Likelihood:                -34.772\n",
       "Date:                Sat, 27 Apr 2024   Deviance:                       69.544\n",
       "Time:                        09:18:32   Pearson chi2:                     72.8\n",
       "No. Iterations:                     9   Pseudo R-squ. (CS):             0.2191\n",
       "Covariance Type:            nonrobust                                         \n",
       "==============================================================================\n",
       "                 coef    std err          z      P>|z|      [0.025      0.975]\n",
       "------------------------------------------------------------------------------\n",
       "const          1.1977      0.354      3.385      0.001       0.504       1.891\n",
       "x1             1.1692      0.328      3.565      0.000       0.526       1.812\n",
       "x2             1.8796      0.686      2.742      0.006       0.536       3.223\n",
       "==============================================================================\n",
       "\"\"\""
      ]
     },
     "execution_count": 18,
     "metadata": {},
     "output_type": "execute_result"
    }
   ],
   "source": [
    "M5 = GLM(endog = df.y,\n",
    "         exog = df.drop(columns = \"y\"),\n",
    "         family = families.Binomial()).fit(method = \"BIRLS\",\n",
    "                                           prior_scale = 2.5,\n",
    "                                           prior_df = 7)\n",
    "M5.summary()"
   ]
  },
  {
   "cell_type": "markdown",
   "metadata": {},
   "source": [
    "### BGLM explicitly specify normal prior with scale 2.5"
   ]
  },
  {
   "cell_type": "code",
   "execution_count": 19,
   "metadata": {},
   "outputs": [
    {
     "name": "stdout",
     "output_type": "stream",
     "text": [
      "arm::bayesglm(formula = y ~ x1 + x2, family = binomial(link = \"logit\"), \n",
      "    prior.scale = 2.5, prior.df = Inf)\n",
      "            coef.est coef.se\n",
      "(Intercept) 1.20     0.35   \n",
      "x1          1.17     0.33   \n",
      "x2          1.89     0.69   \n",
      "---\n",
      "n = 100, k = 3\n",
      "residual deviance = 69.5, null deviance = 94.3 (difference = 24.7)\n"
     ]
    }
   ],
   "source": [
    "%%R\n",
    "M6 <- arm::bayesglm (y ~ x1 + x2, family=binomial(link=\"logit\"),\n",
    "prior.scale=2.5, prior.df=Inf) # normal prior with scale 2.5\n",
    "arm::display (M6)"
   ]
  },
  {
   "cell_type": "code",
   "execution_count": 20,
   "metadata": {},
   "outputs": [
    {
     "data": {
      "text/html": [
       "<table class=\"simpletable\">\n",
       "<caption>Generalized Linear Model Regression Results</caption>\n",
       "<tr>\n",
       "  <th>Dep. Variable:</th>           <td>y</td>        <th>  No. Observations:  </th>  <td>   100</td> \n",
       "</tr>\n",
       "<tr>\n",
       "  <th>Model:</th>                  <td>GLM</td>       <th>  Df Residuals:      </th>  <td>    97</td> \n",
       "</tr>\n",
       "<tr>\n",
       "  <th>Model Family:</th>        <td>Binomial</td>     <th>  Df Model:          </th>  <td>     2</td> \n",
       "</tr>\n",
       "<tr>\n",
       "  <th>Link Function:</th>         <td>Logit</td>      <th>  Scale:             </th> <td>  1.0000</td>\n",
       "</tr>\n",
       "<tr>\n",
       "  <th>Method:</th>                <td>BIRLS</td>      <th>  Log-Likelihood:    </th> <td> -34.768</td>\n",
       "</tr>\n",
       "<tr>\n",
       "  <th>Date:</th>            <td>Sat, 27 Apr 2024</td> <th>  Deviance:          </th> <td>  69.535</td>\n",
       "</tr>\n",
       "<tr>\n",
       "  <th>Time:</th>                <td>09:18:54</td>     <th>  Pearson chi2:      </th>  <td>  73.0</td> \n",
       "</tr>\n",
       "<tr>\n",
       "  <th>No. Iterations:</th>          <td>6</td>        <th>  Pseudo R-squ. (CS):</th>  <td>0.2192</td> \n",
       "</tr>\n",
       "<tr>\n",
       "  <th>Covariance Type:</th>     <td>nonrobust</td>    <th>                     </th>     <td> </td>   \n",
       "</tr>\n",
       "</table>\n",
       "<table class=\"simpletable\">\n",
       "<tr>\n",
       "    <td></td>       <th>coef</th>     <th>std err</th>      <th>z</th>      <th>P>|z|</th>  <th>[0.025</th>    <th>0.975]</th>  \n",
       "</tr>\n",
       "<tr>\n",
       "  <th>const</th> <td>    1.1980</td> <td>    0.354</td> <td>    3.383</td> <td> 0.001</td> <td>    0.504</td> <td>    1.892</td>\n",
       "</tr>\n",
       "<tr>\n",
       "  <th>x1</th>    <td>    1.1710</td> <td>    0.328</td> <td>    3.566</td> <td> 0.000</td> <td>    0.527</td> <td>    1.815</td>\n",
       "</tr>\n",
       "<tr>\n",
       "  <th>x2</th>    <td>    1.8884</td> <td>    0.688</td> <td>    2.743</td> <td> 0.006</td> <td>    0.539</td> <td>    3.237</td>\n",
       "</tr>\n",
       "</table>"
      ],
      "text/latex": [
       "\\begin{center}\n",
       "\\begin{tabular}{lclc}\n",
       "\\toprule\n",
       "\\textbf{Dep. Variable:}   &        y         & \\textbf{  No. Observations:  } &      100    \\\\\n",
       "\\textbf{Model:}           &       GLM        & \\textbf{  Df Residuals:      } &       97    \\\\\n",
       "\\textbf{Model Family:}    &     Binomial     & \\textbf{  Df Model:          } &        2    \\\\\n",
       "\\textbf{Link Function:}   &      Logit       & \\textbf{  Scale:             } &    1.0000   \\\\\n",
       "\\textbf{Method:}          &      BIRLS       & \\textbf{  Log-Likelihood:    } &   -34.768   \\\\\n",
       "\\textbf{Date:}            & Sat, 27 Apr 2024 & \\textbf{  Deviance:          } &    69.535   \\\\\n",
       "\\textbf{Time:}            &     09:18:54     & \\textbf{  Pearson chi2:      } &     73.0    \\\\\n",
       "\\textbf{No. Iterations:}  &        6         & \\textbf{  Pseudo R-squ. (CS):} &   0.2192    \\\\\n",
       "\\textbf{Covariance Type:} &    nonrobust     & \\textbf{                     } &             \\\\\n",
       "\\bottomrule\n",
       "\\end{tabular}\n",
       "\\begin{tabular}{lcccccc}\n",
       "               & \\textbf{coef} & \\textbf{std err} & \\textbf{z} & \\textbf{P$> |$z$|$} & \\textbf{[0.025} & \\textbf{0.975]}  \\\\\n",
       "\\midrule\n",
       "\\textbf{const} &       1.1980  &        0.354     &     3.383  &         0.001        &        0.504    &        1.892     \\\\\n",
       "\\textbf{x1}    &       1.1710  &        0.328     &     3.566  &         0.000        &        0.527    &        1.815     \\\\\n",
       "\\textbf{x2}    &       1.8884  &        0.688     &     2.743  &         0.006        &        0.539    &        3.237     \\\\\n",
       "\\bottomrule\n",
       "\\end{tabular}\n",
       "%\\caption{Generalized Linear Model Regression Results}\n",
       "\\end{center}"
      ],
      "text/plain": [
       "<class 'statsmodels.iolib.summary.Summary'>\n",
       "\"\"\"\n",
       "                 Generalized Linear Model Regression Results                  \n",
       "==============================================================================\n",
       "Dep. Variable:                      y   No. Observations:                  100\n",
       "Model:                            GLM   Df Residuals:                       97\n",
       "Model Family:                Binomial   Df Model:                            2\n",
       "Link Function:                  Logit   Scale:                          1.0000\n",
       "Method:                         BIRLS   Log-Likelihood:                -34.768\n",
       "Date:                Sat, 27 Apr 2024   Deviance:                       69.535\n",
       "Time:                        09:18:54   Pearson chi2:                     73.0\n",
       "No. Iterations:                     6   Pseudo R-squ. (CS):             0.2192\n",
       "Covariance Type:            nonrobust                                         \n",
       "==============================================================================\n",
       "                 coef    std err          z      P>|z|      [0.025      0.975]\n",
       "------------------------------------------------------------------------------\n",
       "const          1.1980      0.354      3.383      0.001       0.504       1.892\n",
       "x1             1.1710      0.328      3.566      0.000       0.527       1.815\n",
       "x2             1.8884      0.688      2.743      0.006       0.539       3.237\n",
       "==============================================================================\n",
       "\"\"\""
      ]
     },
     "execution_count": 20,
     "metadata": {},
     "output_type": "execute_result"
    }
   ],
   "source": [
    "M6 = GLM(endog = df.y,\n",
    "         exog = df.drop(columns = \"y\"),\n",
    "         family = families.Binomial()).fit(method = \"BIRLS\",\n",
    "                                           prior_scale = 2.5,\n",
    "                                           prior_df = np.inf)\n",
    "M6.summary()"
   ]
  },
  {
   "cell_type": "markdown",
   "metadata": {},
   "source": [
    "### Create Separation"
   ]
  },
  {
   "cell_type": "code",
   "execution_count": 21,
   "metadata": {},
   "outputs": [
    {
     "name": "stdout",
     "output_type": "stream",
     "text": [
      "  [1] 0 0 0 0 0 0 1 1 1 0 0 1 1 0 0 1 0 0 0 1 0 1 0 0 1 1 0 0 0 1 1 1 0 1 0 0 0\n",
      " [38] 0 1 1 1 1 0 1 1 0 1 1 1 0 1 1 1 0 0 0 1 0 0 1 0 1 0 0 1 1 0 0 1 0 0 0 0 1\n",
      " [75] 1 0 0 1 0 0 1 0 1 0 1 0 1 1 0 1 0 1 0 0 0 0 0 1 0 0\n"
     ]
    }
   ],
   "source": [
    "%%R\n",
    "# augment y as shown in the docs\n",
    "\n",
    "# Create separation: set y=1 whenever x2=1\n",
    "# Now it should blow up without the prior!\n",
    "y <- ifelse (x2==1, 1, 0)\n",
    "y"
   ]
  },
  {
   "cell_type": "code",
   "execution_count": 22,
   "metadata": {},
   "outputs": [
    {
     "data": {
      "text/plain": [
       "array([0., 0., 0., 0., 0., 0., 1., 1., 1., 0., 0., 1., 1., 0., 0., 1., 0.,\n",
       "       0., 0., 1., 0., 1., 0., 0., 1., 1., 0., 0., 0., 1., 1., 1., 0., 1.,\n",
       "       0., 0., 0., 0., 1., 1., 1., 1., 0., 1., 1., 0., 1., 1., 1., 0., 1.,\n",
       "       1., 1., 0., 0., 0., 1., 0., 0., 1., 0., 1., 0., 0., 1., 1., 0., 0.,\n",
       "       1., 0., 0., 0., 0., 1., 1., 0., 0., 1., 0., 0., 1., 0., 1., 0., 1.,\n",
       "       0., 1., 1., 0., 1., 0., 1., 0., 0., 0., 0., 0., 1., 0., 0.])"
      ]
     },
     "execution_count": 22,
     "metadata": {},
     "output_type": "execute_result"
    }
   ],
   "source": [
    "# import the augmented y into Python\n",
    "y = np.array(robjects.globalenv['y'])\n",
    "y"
   ]
  },
  {
   "cell_type": "code",
   "execution_count": 23,
   "metadata": {},
   "outputs": [
    {
     "name": "stdout",
     "output_type": "stream",
     "text": [
      "glm(formula = y ~ x1 + x2, family = binomial(link = \"logit\"))\n",
      "            coef.est coef.se \n",
      "(Intercept)   -26.57 47437.64\n",
      "x1              0.00 34673.35\n",
      "x2             53.13 72493.65\n",
      "---\n",
      "  n = 100, k = 3\n",
      "  residual deviance = 0.0, null deviance = 136.7 (difference = 136.7)\n"
     ]
    }
   ],
   "source": [
    "%%R\n",
    "M1 <- glm (y ~ x1 + x2, family=binomial(link=\"logit\"))\n",
    "arm::display (M1)"
   ]
  },
  {
   "cell_type": "code",
   "execution_count": 24,
   "metadata": {},
   "outputs": [
    {
     "name": "stderr",
     "output_type": "stream",
     "text": [
      "/Users/chris/Documents/GitHub/statsmodels/statsmodels/genmod/generalized_linear_model.py:1352: PerfectSeparationWarning: Perfect separation or prediction detected, parameter may not be identified\n",
      "  warnings.warn(msg, category=PerfectSeparationWarning)\n",
      "/Users/chris/Documents/GitHub/statsmodels/statsmodels/genmod/generalized_linear_model.py:1352: PerfectSeparationWarning: Perfect separation or prediction detected, parameter may not be identified\n",
      "  warnings.warn(msg, category=PerfectSeparationWarning)\n",
      "/Users/chris/Documents/GitHub/statsmodels/statsmodels/genmod/generalized_linear_model.py:1352: PerfectSeparationWarning: Perfect separation or prediction detected, parameter may not be identified\n",
      "  warnings.warn(msg, category=PerfectSeparationWarning)\n",
      "/Users/chris/Documents/GitHub/statsmodels/statsmodels/genmod/generalized_linear_model.py:1352: PerfectSeparationWarning: Perfect separation or prediction detected, parameter may not be identified\n",
      "  warnings.warn(msg, category=PerfectSeparationWarning)\n",
      "/Users/chris/Documents/GitHub/statsmodels/statsmodels/genmod/generalized_linear_model.py:1352: PerfectSeparationWarning: Perfect separation or prediction detected, parameter may not be identified\n",
      "  warnings.warn(msg, category=PerfectSeparationWarning)\n",
      "/Users/chris/Documents/GitHub/statsmodels/statsmodels/genmod/generalized_linear_model.py:1352: PerfectSeparationWarning: Perfect separation or prediction detected, parameter may not be identified\n",
      "  warnings.warn(msg, category=PerfectSeparationWarning)\n",
      "/Users/chris/Documents/GitHub/statsmodels/statsmodels/genmod/generalized_linear_model.py:1352: PerfectSeparationWarning: Perfect separation or prediction detected, parameter may not be identified\n",
      "  warnings.warn(msg, category=PerfectSeparationWarning)\n"
     ]
    },
    {
     "data": {
      "text/html": [
       "<table class=\"simpletable\">\n",
       "<caption>Generalized Linear Model Regression Results</caption>\n",
       "<tr>\n",
       "  <th>Dep. Variable:</th>           <td>y</td>        <th>  No. Observations:  </th>   <td>   100</td>   \n",
       "</tr>\n",
       "<tr>\n",
       "  <th>Model:</th>                  <td>GLM</td>       <th>  Df Residuals:      </th>   <td>    97</td>   \n",
       "</tr>\n",
       "<tr>\n",
       "  <th>Model Family:</th>        <td>Binomial</td>     <th>  Df Model:          </th>   <td>     2</td>   \n",
       "</tr>\n",
       "<tr>\n",
       "  <th>Link Function:</th>         <td>Logit</td>      <th>  Scale:             </th>  <td>  1.0000</td>  \n",
       "</tr>\n",
       "<tr>\n",
       "  <th>Method:</th>                <td>IRLS</td>       <th>  Log-Likelihood:    </th> <td>-2.1433e-09</td>\n",
       "</tr>\n",
       "<tr>\n",
       "  <th>Date:</th>            <td>Sat, 27 Apr 2024</td> <th>  Deviance:          </th> <td>4.2867e-09</td> \n",
       "</tr>\n",
       "<tr>\n",
       "  <th>Time:</th>                <td>09:19:13</td>     <th>  Pearson chi2:      </th>  <td>2.14e-09</td>  \n",
       "</tr>\n",
       "<tr>\n",
       "  <th>No. Iterations:</th>         <td>23</td>        <th>  Pseudo R-squ. (CS):</th>   <td>0.7450</td>   \n",
       "</tr>\n",
       "<tr>\n",
       "  <th>Covariance Type:</th>     <td>nonrobust</td>    <th>                     </th>      <td> </td>     \n",
       "</tr>\n",
       "</table>\n",
       "<table class=\"simpletable\">\n",
       "<tr>\n",
       "    <td></td>       <th>coef</th>     <th>std err</th>      <th>z</th>      <th>P>|z|</th>  <th>[0.025</th>    <th>0.975]</th>  \n",
       "</tr>\n",
       "<tr>\n",
       "  <th>const</th> <td>  -24.5661</td> <td> 1.75e+04</td> <td>   -0.001</td> <td> 0.999</td> <td>-3.42e+04</td> <td> 3.42e+04</td>\n",
       "</tr>\n",
       "<tr>\n",
       "  <th>x1</th>    <td> -4.33e-15</td> <td> 1.28e+04</td> <td>-3.39e-19</td> <td> 1.000</td> <td> -2.5e+04</td> <td>  2.5e+04</td>\n",
       "</tr>\n",
       "<tr>\n",
       "  <th>x2</th>    <td>   49.1321</td> <td> 2.67e+04</td> <td>    0.002</td> <td> 0.999</td> <td>-5.22e+04</td> <td> 5.23e+04</td>\n",
       "</tr>\n",
       "</table>"
      ],
      "text/latex": [
       "\\begin{center}\n",
       "\\begin{tabular}{lclc}\n",
       "\\toprule\n",
       "\\textbf{Dep. Variable:}   &        y         & \\textbf{  No. Observations:  } &       100    \\\\\n",
       "\\textbf{Model:}           &       GLM        & \\textbf{  Df Residuals:      } &        97    \\\\\n",
       "\\textbf{Model Family:}    &     Binomial     & \\textbf{  Df Model:          } &         2    \\\\\n",
       "\\textbf{Link Function:}   &      Logit       & \\textbf{  Scale:             } &     1.0000   \\\\\n",
       "\\textbf{Method:}          &       IRLS       & \\textbf{  Log-Likelihood:    } & -2.1433e-09  \\\\\n",
       "\\textbf{Date:}            & Sat, 27 Apr 2024 & \\textbf{  Deviance:          } &  4.2867e-09  \\\\\n",
       "\\textbf{Time:}            &     09:19:13     & \\textbf{  Pearson chi2:      } &   2.14e-09   \\\\\n",
       "\\textbf{No. Iterations:}  &        23        & \\textbf{  Pseudo R-squ. (CS):} &    0.7450    \\\\\n",
       "\\textbf{Covariance Type:} &    nonrobust     & \\textbf{                     } &              \\\\\n",
       "\\bottomrule\n",
       "\\end{tabular}\n",
       "\\begin{tabular}{lcccccc}\n",
       "               & \\textbf{coef} & \\textbf{std err} & \\textbf{z} & \\textbf{P$> |$z$|$} & \\textbf{[0.025} & \\textbf{0.975]}  \\\\\n",
       "\\midrule\n",
       "\\textbf{const} &     -24.5661  &     1.75e+04     &    -0.001  &         0.999        &    -3.42e+04    &     3.42e+04     \\\\\n",
       "\\textbf{x1}    &    -4.33e-15  &     1.28e+04     & -3.39e-19  &         1.000        &     -2.5e+04    &      2.5e+04     \\\\\n",
       "\\textbf{x2}    &      49.1321  &     2.67e+04     &     0.002  &         0.999        &    -5.22e+04    &     5.23e+04     \\\\\n",
       "\\bottomrule\n",
       "\\end{tabular}\n",
       "%\\caption{Generalized Linear Model Regression Results}\n",
       "\\end{center}"
      ],
      "text/plain": [
       "<class 'statsmodels.iolib.summary.Summary'>\n",
       "\"\"\"\n",
       "                 Generalized Linear Model Regression Results                  \n",
       "==============================================================================\n",
       "Dep. Variable:                      y   No. Observations:                  100\n",
       "Model:                            GLM   Df Residuals:                       97\n",
       "Model Family:                Binomial   Df Model:                            2\n",
       "Link Function:                  Logit   Scale:                          1.0000\n",
       "Method:                          IRLS   Log-Likelihood:            -2.1433e-09\n",
       "Date:                Sat, 27 Apr 2024   Deviance:                   4.2867e-09\n",
       "Time:                        09:19:13   Pearson chi2:                 2.14e-09\n",
       "No. Iterations:                    23   Pseudo R-squ. (CS):             0.7450\n",
       "Covariance Type:            nonrobust                                         \n",
       "==============================================================================\n",
       "                 coef    std err          z      P>|z|      [0.025      0.975]\n",
       "------------------------------------------------------------------------------\n",
       "const        -24.5661   1.75e+04     -0.001      0.999   -3.42e+04    3.42e+04\n",
       "x1          -4.33e-15   1.28e+04  -3.39e-19      1.000    -2.5e+04     2.5e+04\n",
       "x2            49.1321   2.67e+04      0.002      0.999   -5.22e+04    5.23e+04\n",
       "==============================================================================\n",
       "\"\"\""
      ]
     },
     "execution_count": 24,
     "metadata": {},
     "output_type": "execute_result"
    }
   ],
   "source": [
    "M1 = GLM(endog = y, exog = df.drop(columns = \"y\"), family = families.Binomial()).fit()\n",
    "M1.summary()"
   ]
  },
  {
   "cell_type": "markdown",
   "metadata": {},
   "source": [
    "### Same behavior for M2 and M2"
   ]
  },
  {
   "cell_type": "code",
   "execution_count": 25,
   "metadata": {},
   "outputs": [
    {
     "name": "stdout",
     "output_type": "stream",
     "text": [
      "arm::bayesglm(formula = y ~ x1 + x2, family = binomial(link = \"logit\"), \n",
      "    prior.scale = Inf, prior.scale.for.intercept = Inf)\n",
      "            coef.est coef.se \n",
      "(Intercept)   -26.57 47437.64\n",
      "x1              0.00 34673.35\n",
      "x2             53.13 72493.65\n",
      "---\n",
      "n = 100, k = 3\n",
      "residual deviance = 0.0, null deviance = 136.7 (difference = 136.7)\n"
     ]
    }
   ],
   "source": [
    "%%R\n",
    "M2 <- arm::bayesglm (y ~ x1 + x2, family=binomial(link=\"logit\"),\n",
    "prior.scale=Inf, prior.scale.for.intercept=Inf) # Same as M1\n",
    "arm::display (M2)"
   ]
  },
  {
   "cell_type": "code",
   "execution_count": 28,
   "metadata": {},
   "outputs": [
    {
     "name": "stdout",
     "output_type": "stream",
     "text": [
      "Expected failure due to perfect separation\n"
     ]
    }
   ],
   "source": [
    "# This will break with no priors! As there's perfect separation.\n",
    "try:\n",
    "    M2 = GLM(endog = y,\n",
    "            exog = df.drop(columns = \"y\"),\n",
    "            family = families.Binomial()).fit(method = \"BIRLS\",\n",
    "                                            prior_scale = np.inf,\n",
    "                                            prior_df = np.inf)\n",
    "    M2.summary()\n",
    "except:\n",
    "    print(\"Expected failure due to perfect separation\")"
   ]
  },
  {
   "cell_type": "markdown",
   "metadata": {},
   "source": [
    "### Same behavior for M3 and M3"
   ]
  },
  {
   "cell_type": "code",
   "execution_count": 30,
   "metadata": {},
   "outputs": [
    {
     "name": "stdout",
     "output_type": "stream",
     "text": [
      "arm::bayesglm(formula = y ~ x1 + x2, family = binomial(link = \"logit\"))\n",
      "            coef.est coef.se\n",
      "(Intercept) -5.86     2.37  \n",
      "x1          -0.03     0.91  \n",
      "x2          11.53     3.33  \n",
      "---\n"
     ]
    },
    {
     "name": "stdout",
     "output_type": "stream",
     "text": [
      "n = 100, k = 3\n",
      "residual deviance = 0.6, null deviance = 136.7 (difference = 136.0)\n"
     ]
    }
   ],
   "source": [
    "%%R\n",
    "M3 <- arm::bayesglm (y ~ x1 + x2, family=binomial(link=\"logit\"))\n",
    "arm::display (M3)"
   ]
  },
  {
   "cell_type": "code",
   "execution_count": 31,
   "metadata": {},
   "outputs": [
    {
     "data": {
      "text/html": [
       "<table class=\"simpletable\">\n",
       "<caption>Generalized Linear Model Regression Results</caption>\n",
       "<tr>\n",
       "  <th>Dep. Variable:</th>           <td>y</td>        <th>  No. Observations:  </th>  <td>   100</td> \n",
       "</tr>\n",
       "<tr>\n",
       "  <th>Model:</th>                  <td>GLM</td>       <th>  Df Residuals:      </th>  <td>    97</td> \n",
       "</tr>\n",
       "<tr>\n",
       "  <th>Model Family:</th>        <td>Binomial</td>     <th>  Df Model:          </th>  <td>     2</td> \n",
       "</tr>\n",
       "<tr>\n",
       "  <th>Link Function:</th>         <td>Logit</td>      <th>  Scale:             </th> <td>  1.0000</td>\n",
       "</tr>\n",
       "<tr>\n",
       "  <th>Method:</th>                <td>BIRLS</td>      <th>  Log-Likelihood:    </th> <td>-0.30914</td>\n",
       "</tr>\n",
       "<tr>\n",
       "  <th>Date:</th>            <td>Sat, 27 Apr 2024</td> <th>  Deviance:          </th> <td> 0.61828</td>\n",
       "</tr>\n",
       "<tr>\n",
       "  <th>Time:</th>                <td>09:29:39</td>     <th>  Pearson chi2:      </th>  <td> 0.310</td> \n",
       "</tr>\n",
       "<tr>\n",
       "  <th>No. Iterations:</th>         <td>25</td>        <th>  Pseudo R-squ. (CS):</th>  <td>0.7435</td> \n",
       "</tr>\n",
       "<tr>\n",
       "  <th>Covariance Type:</th>     <td>nonrobust</td>    <th>                     </th>     <td> </td>   \n",
       "</tr>\n",
       "</table>\n",
       "<table class=\"simpletable\">\n",
       "<tr>\n",
       "    <td></td>       <th>coef</th>     <th>std err</th>      <th>z</th>      <th>P>|z|</th>  <th>[0.025</th>    <th>0.975]</th>  \n",
       "</tr>\n",
       "<tr>\n",
       "  <th>const</th> <td>   -5.8636</td> <td>    2.374</td> <td>   -2.470</td> <td> 0.014</td> <td>  -10.516</td> <td>   -1.211</td>\n",
       "</tr>\n",
       "<tr>\n",
       "  <th>x1</th>    <td>   -0.0333</td> <td>    0.914</td> <td>   -0.036</td> <td> 0.971</td> <td>   -1.825</td> <td>    1.759</td>\n",
       "</tr>\n",
       "<tr>\n",
       "  <th>x2</th>    <td>   11.5296</td> <td>    3.334</td> <td>    3.458</td> <td> 0.001</td> <td>    4.994</td> <td>   18.065</td>\n",
       "</tr>\n",
       "</table>"
      ],
      "text/latex": [
       "\\begin{center}\n",
       "\\begin{tabular}{lclc}\n",
       "\\toprule\n",
       "\\textbf{Dep. Variable:}   &        y         & \\textbf{  No. Observations:  } &      100    \\\\\n",
       "\\textbf{Model:}           &       GLM        & \\textbf{  Df Residuals:      } &       97    \\\\\n",
       "\\textbf{Model Family:}    &     Binomial     & \\textbf{  Df Model:          } &        2    \\\\\n",
       "\\textbf{Link Function:}   &      Logit       & \\textbf{  Scale:             } &    1.0000   \\\\\n",
       "\\textbf{Method:}          &      BIRLS       & \\textbf{  Log-Likelihood:    } &  -0.30914   \\\\\n",
       "\\textbf{Date:}            & Sat, 27 Apr 2024 & \\textbf{  Deviance:          } &   0.61828   \\\\\n",
       "\\textbf{Time:}            &     09:29:39     & \\textbf{  Pearson chi2:      } &    0.310    \\\\\n",
       "\\textbf{No. Iterations:}  &        25        & \\textbf{  Pseudo R-squ. (CS):} &   0.7435    \\\\\n",
       "\\textbf{Covariance Type:} &    nonrobust     & \\textbf{                     } &             \\\\\n",
       "\\bottomrule\n",
       "\\end{tabular}\n",
       "\\begin{tabular}{lcccccc}\n",
       "               & \\textbf{coef} & \\textbf{std err} & \\textbf{z} & \\textbf{P$> |$z$|$} & \\textbf{[0.025} & \\textbf{0.975]}  \\\\\n",
       "\\midrule\n",
       "\\textbf{const} &      -5.8636  &        2.374     &    -2.470  &         0.014        &      -10.516    &       -1.211     \\\\\n",
       "\\textbf{x1}    &      -0.0333  &        0.914     &    -0.036  &         0.971        &       -1.825    &        1.759     \\\\\n",
       "\\textbf{x2}    &      11.5296  &        3.334     &     3.458  &         0.001        &        4.994    &       18.065     \\\\\n",
       "\\bottomrule\n",
       "\\end{tabular}\n",
       "%\\caption{Generalized Linear Model Regression Results}\n",
       "\\end{center}"
      ],
      "text/plain": [
       "<class 'statsmodels.iolib.summary.Summary'>\n",
       "\"\"\"\n",
       "                 Generalized Linear Model Regression Results                  \n",
       "==============================================================================\n",
       "Dep. Variable:                      y   No. Observations:                  100\n",
       "Model:                            GLM   Df Residuals:                       97\n",
       "Model Family:                Binomial   Df Model:                            2\n",
       "Link Function:                  Logit   Scale:                          1.0000\n",
       "Method:                         BIRLS   Log-Likelihood:               -0.30914\n",
       "Date:                Sat, 27 Apr 2024   Deviance:                      0.61828\n",
       "Time:                        09:29:39   Pearson chi2:                    0.310\n",
       "No. Iterations:                    25   Pseudo R-squ. (CS):             0.7435\n",
       "Covariance Type:            nonrobust                                         \n",
       "==============================================================================\n",
       "                 coef    std err          z      P>|z|      [0.025      0.975]\n",
       "------------------------------------------------------------------------------\n",
       "const         -5.8636      2.374     -2.470      0.014     -10.516      -1.211\n",
       "x1            -0.0333      0.914     -0.036      0.971      -1.825       1.759\n",
       "x2            11.5296      3.334      3.458      0.001       4.994      18.065\n",
       "==============================================================================\n",
       "\"\"\""
      ]
     },
     "execution_count": 31,
     "metadata": {},
     "output_type": "execute_result"
    }
   ],
   "source": [
    "M3 = GLM(endog = y,\n",
    "            exog = df.drop(columns = \"y\"),\n",
    "            family = families.Binomial()).fit(method = \"BIRLS\")\n",
    "M3.summary()"
   ]
  },
  {
   "cell_type": "markdown",
   "metadata": {},
   "source": [
    "### Same behavior for M4 and M4"
   ]
  },
  {
   "cell_type": "code",
   "execution_count": 32,
   "metadata": {},
   "outputs": [
    {
     "name": "stdout",
     "output_type": "stream",
     "text": [
      "arm::bayesglm(formula = y ~ x1 + x2, family = binomial(link = \"logit\"), \n",
      "    prior.scale = 2.5, prior.scale.for.intercept = 10)\n",
      "            coef.est coef.se\n",
      "(Intercept) -5.86     2.37  \n",
      "x1          -0.03     0.91  \n",
      "x2          11.53     3.33  \n",
      "---\n",
      "n = 100, k = 3\n",
      "residual deviance = 0.6, null deviance = 136.7 (difference = 136.0)\n"
     ]
    }
   ],
   "source": [
    "%%R\n",
    "M4 <- arm::bayesglm (y ~ x1 + x2, family=binomial(link=\"logit\"),\n",
    "prior.scale=2.5, prior.scale.for.intercept=10) # Same as M3\n",
    "arm::display (M4)"
   ]
  },
  {
   "cell_type": "code",
   "execution_count": 33,
   "metadata": {},
   "outputs": [
    {
     "data": {
      "text/html": [
       "<table class=\"simpletable\">\n",
       "<caption>Generalized Linear Model Regression Results</caption>\n",
       "<tr>\n",
       "  <th>Dep. Variable:</th>           <td>y</td>        <th>  No. Observations:  </th>  <td>   100</td> \n",
       "</tr>\n",
       "<tr>\n",
       "  <th>Model:</th>                  <td>GLM</td>       <th>  Df Residuals:      </th>  <td>    97</td> \n",
       "</tr>\n",
       "<tr>\n",
       "  <th>Model Family:</th>        <td>Binomial</td>     <th>  Df Model:          </th>  <td>     2</td> \n",
       "</tr>\n",
       "<tr>\n",
       "  <th>Link Function:</th>         <td>Logit</td>      <th>  Scale:             </th> <td>  1.0000</td>\n",
       "</tr>\n",
       "<tr>\n",
       "  <th>Method:</th>                <td>BIRLS</td>      <th>  Log-Likelihood:    </th> <td>-0.30914</td>\n",
       "</tr>\n",
       "<tr>\n",
       "  <th>Date:</th>            <td>Sat, 27 Apr 2024</td> <th>  Deviance:          </th> <td> 0.61828</td>\n",
       "</tr>\n",
       "<tr>\n",
       "  <th>Time:</th>                <td>09:33:12</td>     <th>  Pearson chi2:      </th>  <td> 0.310</td> \n",
       "</tr>\n",
       "<tr>\n",
       "  <th>No. Iterations:</th>         <td>25</td>        <th>  Pseudo R-squ. (CS):</th>  <td>0.7435</td> \n",
       "</tr>\n",
       "<tr>\n",
       "  <th>Covariance Type:</th>     <td>nonrobust</td>    <th>                     </th>     <td> </td>   \n",
       "</tr>\n",
       "</table>\n",
       "<table class=\"simpletable\">\n",
       "<tr>\n",
       "    <td></td>       <th>coef</th>     <th>std err</th>      <th>z</th>      <th>P>|z|</th>  <th>[0.025</th>    <th>0.975]</th>  \n",
       "</tr>\n",
       "<tr>\n",
       "  <th>const</th> <td>   -5.8636</td> <td>    2.374</td> <td>   -2.470</td> <td> 0.014</td> <td>  -10.516</td> <td>   -1.211</td>\n",
       "</tr>\n",
       "<tr>\n",
       "  <th>x1</th>    <td>   -0.0333</td> <td>    0.914</td> <td>   -0.036</td> <td> 0.971</td> <td>   -1.825</td> <td>    1.759</td>\n",
       "</tr>\n",
       "<tr>\n",
       "  <th>x2</th>    <td>   11.5296</td> <td>    3.334</td> <td>    3.458</td> <td> 0.001</td> <td>    4.994</td> <td>   18.065</td>\n",
       "</tr>\n",
       "</table>"
      ],
      "text/latex": [
       "\\begin{center}\n",
       "\\begin{tabular}{lclc}\n",
       "\\toprule\n",
       "\\textbf{Dep. Variable:}   &        y         & \\textbf{  No. Observations:  } &      100    \\\\\n",
       "\\textbf{Model:}           &       GLM        & \\textbf{  Df Residuals:      } &       97    \\\\\n",
       "\\textbf{Model Family:}    &     Binomial     & \\textbf{  Df Model:          } &        2    \\\\\n",
       "\\textbf{Link Function:}   &      Logit       & \\textbf{  Scale:             } &    1.0000   \\\\\n",
       "\\textbf{Method:}          &      BIRLS       & \\textbf{  Log-Likelihood:    } &  -0.30914   \\\\\n",
       "\\textbf{Date:}            & Sat, 27 Apr 2024 & \\textbf{  Deviance:          } &   0.61828   \\\\\n",
       "\\textbf{Time:}            &     09:33:12     & \\textbf{  Pearson chi2:      } &    0.310    \\\\\n",
       "\\textbf{No. Iterations:}  &        25        & \\textbf{  Pseudo R-squ. (CS):} &   0.7435    \\\\\n",
       "\\textbf{Covariance Type:} &    nonrobust     & \\textbf{                     } &             \\\\\n",
       "\\bottomrule\n",
       "\\end{tabular}\n",
       "\\begin{tabular}{lcccccc}\n",
       "               & \\textbf{coef} & \\textbf{std err} & \\textbf{z} & \\textbf{P$> |$z$|$} & \\textbf{[0.025} & \\textbf{0.975]}  \\\\\n",
       "\\midrule\n",
       "\\textbf{const} &      -5.8636  &        2.374     &    -2.470  &         0.014        &      -10.516    &       -1.211     \\\\\n",
       "\\textbf{x1}    &      -0.0333  &        0.914     &    -0.036  &         0.971        &       -1.825    &        1.759     \\\\\n",
       "\\textbf{x2}    &      11.5296  &        3.334     &     3.458  &         0.001        &        4.994    &       18.065     \\\\\n",
       "\\bottomrule\n",
       "\\end{tabular}\n",
       "%\\caption{Generalized Linear Model Regression Results}\n",
       "\\end{center}"
      ],
      "text/plain": [
       "<class 'statsmodels.iolib.summary.Summary'>\n",
       "\"\"\"\n",
       "                 Generalized Linear Model Regression Results                  \n",
       "==============================================================================\n",
       "Dep. Variable:                      y   No. Observations:                  100\n",
       "Model:                            GLM   Df Residuals:                       97\n",
       "Model Family:                Binomial   Df Model:                            2\n",
       "Link Function:                  Logit   Scale:                          1.0000\n",
       "Method:                         BIRLS   Log-Likelihood:               -0.30914\n",
       "Date:                Sat, 27 Apr 2024   Deviance:                      0.61828\n",
       "Time:                        09:33:12   Pearson chi2:                    0.310\n",
       "No. Iterations:                    25   Pseudo R-squ. (CS):             0.7435\n",
       "Covariance Type:            nonrobust                                         \n",
       "==============================================================================\n",
       "                 coef    std err          z      P>|z|      [0.025      0.975]\n",
       "------------------------------------------------------------------------------\n",
       "const         -5.8636      2.374     -2.470      0.014     -10.516      -1.211\n",
       "x1            -0.0333      0.914     -0.036      0.971      -1.825       1.759\n",
       "x2            11.5296      3.334      3.458      0.001       4.994      18.065\n",
       "==============================================================================\n",
       "\"\"\""
      ]
     },
     "execution_count": 33,
     "metadata": {},
     "output_type": "execute_result"
    }
   ],
   "source": [
    "M4 = GLM(endog = y,\n",
    "            exog = df.drop(columns = \"y\"),\n",
    "            family = families.Binomial()).fit(method = \"BIRLS\",\n",
    "                                              prior_scale = 2.5,\n",
    "                                              prior_scale_for_intercept = 10)\n",
    "M4.summary()"
   ]
  },
  {
   "cell_type": "markdown",
   "metadata": {},
   "source": [
    "### Same behavior for M5"
   ]
  },
  {
   "cell_type": "code",
   "execution_count": 34,
   "metadata": {},
   "outputs": [
    {
     "name": "stdout",
     "output_type": "stream",
     "text": [
      "arm::bayesglm(formula = y ~ x1 + x2, family = binomial(link = \"logit\"), \n",
      "    prior.scale = 2.5, prior.df = 7)\n",
      "            coef.est coef.se\n",
      "(Intercept) -4.58     1.26  \n",
      "x1          -0.08     0.72  \n",
      "x2           8.90     1.71  \n",
      "---\n",
      "n = 100, k = 3\n",
      "residual deviance = 2.3, null deviance = 136.7 (difference = 134.4)\n"
     ]
    }
   ],
   "source": [
    "%%R\n",
    "M5 <- arm::bayesglm (y ~ x1 + x2, family=binomial(link=\"logit\"),\n",
    "prior.scale=2.5, prior.df=7)\n",
    "arm::display (M5)"
   ]
  },
  {
   "cell_type": "code",
   "execution_count": 35,
   "metadata": {},
   "outputs": [
    {
     "data": {
      "text/html": [
       "<table class=\"simpletable\">\n",
       "<caption>Generalized Linear Model Regression Results</caption>\n",
       "<tr>\n",
       "  <th>Dep. Variable:</th>           <td>y</td>        <th>  No. Observations:  </th>  <td>   100</td> \n",
       "</tr>\n",
       "<tr>\n",
       "  <th>Model:</th>                  <td>GLM</td>       <th>  Df Residuals:      </th>  <td>    97</td> \n",
       "</tr>\n",
       "<tr>\n",
       "  <th>Model Family:</th>        <td>Binomial</td>     <th>  Df Model:          </th>  <td>     2</td> \n",
       "</tr>\n",
       "<tr>\n",
       "  <th>Link Function:</th>         <td>Logit</td>      <th>  Scale:             </th> <td>  1.0000</td>\n",
       "</tr>\n",
       "<tr>\n",
       "  <th>Method:</th>                <td>BIRLS</td>      <th>  Log-Likelihood:    </th> <td> -1.1395</td>\n",
       "</tr>\n",
       "<tr>\n",
       "  <th>Date:</th>            <td>Sat, 27 Apr 2024</td> <th>  Deviance:          </th> <td>  2.2790</td>\n",
       "</tr>\n",
       "<tr>\n",
       "  <th>Time:</th>                <td>09:36:03</td>     <th>  Pearson chi2:      </th>  <td>  1.15</td> \n",
       "</tr>\n",
       "<tr>\n",
       "  <th>No. Iterations:</th>         <td>20</td>        <th>  Pseudo R-squ. (CS):</th>  <td>0.7392</td> \n",
       "</tr>\n",
       "<tr>\n",
       "  <th>Covariance Type:</th>     <td>nonrobust</td>    <th>                     </th>     <td> </td>   \n",
       "</tr>\n",
       "</table>\n",
       "<table class=\"simpletable\">\n",
       "<tr>\n",
       "    <td></td>       <th>coef</th>     <th>std err</th>      <th>z</th>      <th>P>|z|</th>  <th>[0.025</th>    <th>0.975]</th>  \n",
       "</tr>\n",
       "<tr>\n",
       "  <th>const</th> <td>   -4.5828</td> <td>    1.260</td> <td>   -3.636</td> <td> 0.000</td> <td>   -7.053</td> <td>   -2.112</td>\n",
       "</tr>\n",
       "<tr>\n",
       "  <th>x1</th>    <td>   -0.0769</td> <td>    0.724</td> <td>   -0.106</td> <td> 0.915</td> <td>   -1.496</td> <td>    1.343</td>\n",
       "</tr>\n",
       "<tr>\n",
       "  <th>x2</th>    <td>    8.9039</td> <td>    1.707</td> <td>    5.215</td> <td> 0.000</td> <td>    5.557</td> <td>   12.250</td>\n",
       "</tr>\n",
       "</table>"
      ],
      "text/latex": [
       "\\begin{center}\n",
       "\\begin{tabular}{lclc}\n",
       "\\toprule\n",
       "\\textbf{Dep. Variable:}   &        y         & \\textbf{  No. Observations:  } &      100    \\\\\n",
       "\\textbf{Model:}           &       GLM        & \\textbf{  Df Residuals:      } &       97    \\\\\n",
       "\\textbf{Model Family:}    &     Binomial     & \\textbf{  Df Model:          } &        2    \\\\\n",
       "\\textbf{Link Function:}   &      Logit       & \\textbf{  Scale:             } &    1.0000   \\\\\n",
       "\\textbf{Method:}          &      BIRLS       & \\textbf{  Log-Likelihood:    } &   -1.1395   \\\\\n",
       "\\textbf{Date:}            & Sat, 27 Apr 2024 & \\textbf{  Deviance:          } &    2.2790   \\\\\n",
       "\\textbf{Time:}            &     09:36:03     & \\textbf{  Pearson chi2:      } &     1.15    \\\\\n",
       "\\textbf{No. Iterations:}  &        20        & \\textbf{  Pseudo R-squ. (CS):} &   0.7392    \\\\\n",
       "\\textbf{Covariance Type:} &    nonrobust     & \\textbf{                     } &             \\\\\n",
       "\\bottomrule\n",
       "\\end{tabular}\n",
       "\\begin{tabular}{lcccccc}\n",
       "               & \\textbf{coef} & \\textbf{std err} & \\textbf{z} & \\textbf{P$> |$z$|$} & \\textbf{[0.025} & \\textbf{0.975]}  \\\\\n",
       "\\midrule\n",
       "\\textbf{const} &      -4.5828  &        1.260     &    -3.636  &         0.000        &       -7.053    &       -2.112     \\\\\n",
       "\\textbf{x1}    &      -0.0769  &        0.724     &    -0.106  &         0.915        &       -1.496    &        1.343     \\\\\n",
       "\\textbf{x2}    &       8.9039  &        1.707     &     5.215  &         0.000        &        5.557    &       12.250     \\\\\n",
       "\\bottomrule\n",
       "\\end{tabular}\n",
       "%\\caption{Generalized Linear Model Regression Results}\n",
       "\\end{center}"
      ],
      "text/plain": [
       "<class 'statsmodels.iolib.summary.Summary'>\n",
       "\"\"\"\n",
       "                 Generalized Linear Model Regression Results                  \n",
       "==============================================================================\n",
       "Dep. Variable:                      y   No. Observations:                  100\n",
       "Model:                            GLM   Df Residuals:                       97\n",
       "Model Family:                Binomial   Df Model:                            2\n",
       "Link Function:                  Logit   Scale:                          1.0000\n",
       "Method:                         BIRLS   Log-Likelihood:                -1.1395\n",
       "Date:                Sat, 27 Apr 2024   Deviance:                       2.2790\n",
       "Time:                        09:36:03   Pearson chi2:                     1.15\n",
       "No. Iterations:                    20   Pseudo R-squ. (CS):             0.7392\n",
       "Covariance Type:            nonrobust                                         \n",
       "==============================================================================\n",
       "                 coef    std err          z      P>|z|      [0.025      0.975]\n",
       "------------------------------------------------------------------------------\n",
       "const         -4.5828      1.260     -3.636      0.000      -7.053      -2.112\n",
       "x1            -0.0769      0.724     -0.106      0.915      -1.496       1.343\n",
       "x2             8.9039      1.707      5.215      0.000       5.557      12.250\n",
       "==============================================================================\n",
       "\"\"\""
      ]
     },
     "execution_count": 35,
     "metadata": {},
     "output_type": "execute_result"
    }
   ],
   "source": [
    "M5 = GLM(endog = y,\n",
    "            exog = df.drop(columns = \"y\"),\n",
    "            family = families.Binomial()).fit(method = \"BIRLS\",\n",
    "                                              prior_scale = 2.5,\n",
    "                                              prior_df = 7)\n",
    "M5.summary()"
   ]
  },
  {
   "cell_type": "markdown",
   "metadata": {},
   "source": [
    "### Same behavior with M6"
   ]
  },
  {
   "cell_type": "code",
   "execution_count": 36,
   "metadata": {},
   "outputs": [
    {
     "name": "stdout",
     "output_type": "stream",
     "text": [
      "arm::bayesglm(formula = y ~ x1 + x2, family = binomial(link = \"logit\"), \n",
      "    prior.scale = 2.5, prior.df = Inf)\n",
      "            coef.est coef.se\n",
      "(Intercept) -3.84     0.87  \n",
      "x1          -0.10     0.57  \n",
      "x2           7.40     1.16  \n",
      "---\n",
      "n = 100, k = 3\n",
      "residual deviance = 4.8, null deviance = 136.7 (difference = 131.9)\n"
     ]
    }
   ],
   "source": [
    "%%R\n",
    "M6 <- arm::bayesglm (y ~ x1 + x2, family=binomial(link=\"logit\"),\n",
    "prior.scale=2.5, prior.df=Inf)\n",
    "arm::display (M6)"
   ]
  },
  {
   "cell_type": "code",
   "execution_count": 37,
   "metadata": {},
   "outputs": [
    {
     "data": {
      "text/html": [
       "<table class=\"simpletable\">\n",
       "<caption>Generalized Linear Model Regression Results</caption>\n",
       "<tr>\n",
       "  <th>Dep. Variable:</th>           <td>y</td>        <th>  No. Observations:  </th>  <td>   100</td> \n",
       "</tr>\n",
       "<tr>\n",
       "  <th>Model:</th>                  <td>GLM</td>       <th>  Df Residuals:      </th>  <td>    97</td> \n",
       "</tr>\n",
       "<tr>\n",
       "  <th>Model Family:</th>        <td>Binomial</td>     <th>  Df Model:          </th>  <td>     2</td> \n",
       "</tr>\n",
       "<tr>\n",
       "  <th>Link Function:</th>         <td>Logit</td>      <th>  Scale:             </th> <td>  1.0000</td>\n",
       "</tr>\n",
       "<tr>\n",
       "  <th>Method:</th>                <td>BIRLS</td>      <th>  Log-Likelihood:    </th> <td> -2.3985</td>\n",
       "</tr>\n",
       "<tr>\n",
       "  <th>Date:</th>            <td>Sat, 27 Apr 2024</td> <th>  Deviance:          </th> <td>  4.7969</td>\n",
       "</tr>\n",
       "<tr>\n",
       "  <th>Time:</th>                <td>09:38:01</td>     <th>  Pearson chi2:      </th>  <td>  2.43</td> \n",
       "</tr>\n",
       "<tr>\n",
       "  <th>No. Iterations:</th>          <td>7</td>        <th>  Pseudo R-squ. (CS):</th>  <td>0.7325</td> \n",
       "</tr>\n",
       "<tr>\n",
       "  <th>Covariance Type:</th>     <td>nonrobust</td>    <th>                     </th>     <td> </td>   \n",
       "</tr>\n",
       "</table>\n",
       "<table class=\"simpletable\">\n",
       "<tr>\n",
       "    <td></td>       <th>coef</th>     <th>std err</th>      <th>z</th>      <th>P>|z|</th>  <th>[0.025</th>    <th>0.975]</th>  \n",
       "</tr>\n",
       "<tr>\n",
       "  <th>const</th> <td>   -3.8411</td> <td>    0.875</td> <td>   -4.391</td> <td> 0.000</td> <td>   -5.556</td> <td>   -2.127</td>\n",
       "</tr>\n",
       "<tr>\n",
       "  <th>x1</th>    <td>   -0.0999</td> <td>    0.571</td> <td>   -0.175</td> <td> 0.861</td> <td>   -1.219</td> <td>    1.019</td>\n",
       "</tr>\n",
       "<tr>\n",
       "  <th>x2</th>    <td>    7.4005</td> <td>    1.165</td> <td>    6.355</td> <td> 0.000</td> <td>    5.118</td> <td>    9.683</td>\n",
       "</tr>\n",
       "</table>"
      ],
      "text/latex": [
       "\\begin{center}\n",
       "\\begin{tabular}{lclc}\n",
       "\\toprule\n",
       "\\textbf{Dep. Variable:}   &        y         & \\textbf{  No. Observations:  } &      100    \\\\\n",
       "\\textbf{Model:}           &       GLM        & \\textbf{  Df Residuals:      } &       97    \\\\\n",
       "\\textbf{Model Family:}    &     Binomial     & \\textbf{  Df Model:          } &        2    \\\\\n",
       "\\textbf{Link Function:}   &      Logit       & \\textbf{  Scale:             } &    1.0000   \\\\\n",
       "\\textbf{Method:}          &      BIRLS       & \\textbf{  Log-Likelihood:    } &   -2.3985   \\\\\n",
       "\\textbf{Date:}            & Sat, 27 Apr 2024 & \\textbf{  Deviance:          } &    4.7969   \\\\\n",
       "\\textbf{Time:}            &     09:38:01     & \\textbf{  Pearson chi2:      } &     2.43    \\\\\n",
       "\\textbf{No. Iterations:}  &        7         & \\textbf{  Pseudo R-squ. (CS):} &   0.7325    \\\\\n",
       "\\textbf{Covariance Type:} &    nonrobust     & \\textbf{                     } &             \\\\\n",
       "\\bottomrule\n",
       "\\end{tabular}\n",
       "\\begin{tabular}{lcccccc}\n",
       "               & \\textbf{coef} & \\textbf{std err} & \\textbf{z} & \\textbf{P$> |$z$|$} & \\textbf{[0.025} & \\textbf{0.975]}  \\\\\n",
       "\\midrule\n",
       "\\textbf{const} &      -3.8411  &        0.875     &    -4.391  &         0.000        &       -5.556    &       -2.127     \\\\\n",
       "\\textbf{x1}    &      -0.0999  &        0.571     &    -0.175  &         0.861        &       -1.219    &        1.019     \\\\\n",
       "\\textbf{x2}    &       7.4005  &        1.165     &     6.355  &         0.000        &        5.118    &        9.683     \\\\\n",
       "\\bottomrule\n",
       "\\end{tabular}\n",
       "%\\caption{Generalized Linear Model Regression Results}\n",
       "\\end{center}"
      ],
      "text/plain": [
       "<class 'statsmodels.iolib.summary.Summary'>\n",
       "\"\"\"\n",
       "                 Generalized Linear Model Regression Results                  \n",
       "==============================================================================\n",
       "Dep. Variable:                      y   No. Observations:                  100\n",
       "Model:                            GLM   Df Residuals:                       97\n",
       "Model Family:                Binomial   Df Model:                            2\n",
       "Link Function:                  Logit   Scale:                          1.0000\n",
       "Method:                         BIRLS   Log-Likelihood:                -2.3985\n",
       "Date:                Sat, 27 Apr 2024   Deviance:                       4.7969\n",
       "Time:                        09:38:01   Pearson chi2:                     2.43\n",
       "No. Iterations:                     7   Pseudo R-squ. (CS):             0.7325\n",
       "Covariance Type:            nonrobust                                         \n",
       "==============================================================================\n",
       "                 coef    std err          z      P>|z|      [0.025      0.975]\n",
       "------------------------------------------------------------------------------\n",
       "const         -3.8411      0.875     -4.391      0.000      -5.556      -2.127\n",
       "x1            -0.0999      0.571     -0.175      0.861      -1.219       1.019\n",
       "x2             7.4005      1.165      6.355      0.000       5.118       9.683\n",
       "==============================================================================\n",
       "\"\"\""
      ]
     },
     "execution_count": 37,
     "metadata": {},
     "output_type": "execute_result"
    }
   ],
   "source": [
    "M6 = GLM(endog = y,\n",
    "            exog = df.drop(columns = \"y\"),\n",
    "            family = families.Binomial()).fit(method = \"BIRLS\",\n",
    "                                              prior_scale = 2.5,\n",
    "                                              prior_df = np.inf)\n",
    "M6.summary()"
   ]
  },
  {
   "cell_type": "markdown",
   "metadata": {},
   "source": [
    "### bayesglm with gaussian family (bayes lm)"
   ]
  },
  {
   "cell_type": "code",
   "execution_count": 39,
   "metadata": {},
   "outputs": [],
   "source": [
    "%%R\n",
    "# data setup\n",
    "sigma <- 5\n",
    "b0 <- 1\n",
    "b1 <- 1.5\n",
    "b2 <- 2\n",
    "y2 <- rnorm (n, b0+b1*x1+b2*x2, sigma)"
   ]
  },
  {
   "cell_type": "code",
   "execution_count": 41,
   "metadata": {},
   "outputs": [],
   "source": [
    "y2 = np.array(robjects.globalenv['y2'])"
   ]
  },
  {
   "cell_type": "markdown",
   "metadata": {},
   "source": [
    "### Compare behavior M7"
   ]
  },
  {
   "cell_type": "code",
   "execution_count": 42,
   "metadata": {},
   "outputs": [
    {
     "name": "stdout",
     "output_type": "stream",
     "text": [
      "arm::bayesglm(formula = y2 ~ x1 + x2, prior.scale = Inf, prior.df = Inf)\n",
      "            coef.est coef.se\n",
      "(Intercept) 0.75     0.66   \n",
      "x1          1.93     0.48   \n",
      "x2          3.00     1.01   \n",
      "---\n",
      "n = 100, k = 3\n",
      "residual deviance = 2390.0, null deviance = 2937.4 (difference = 547.3)\n",
      "overdispersion parameter = 24.6\n",
      "residual sd is sqrt(overdispersion) = 4.96\n"
     ]
    }
   ],
   "source": [
    "%%R\n",
    "# note that default family is Gaussian\n",
    "M7 <- arm::bayesglm (y2 ~ x1 + x2, prior.scale=Inf, prior.df=Inf)\n",
    "arm::display (M7)"
   ]
  },
  {
   "cell_type": "code",
   "execution_count": 45,
   "metadata": {},
   "outputs": [
    {
     "data": {
      "text/html": [
       "<table class=\"simpletable\">\n",
       "<caption>Generalized Linear Model Regression Results</caption>\n",
       "<tr>\n",
       "  <th>Dep. Variable:</th>           <td>y</td>        <th>  No. Observations:  </th>  <td>   100</td> \n",
       "</tr>\n",
       "<tr>\n",
       "  <th>Model:</th>                  <td>GLM</td>       <th>  Df Residuals:      </th>  <td>    97</td> \n",
       "</tr>\n",
       "<tr>\n",
       "  <th>Model Family:</th>        <td>Gaussian</td>     <th>  Df Model:          </th>  <td>     2</td> \n",
       "</tr>\n",
       "<tr>\n",
       "  <th>Link Function:</th>       <td>Identity</td>     <th>  Scale:             </th> <td>  24.640</td>\n",
       "</tr>\n",
       "<tr>\n",
       "  <th>Method:</th>                <td>BIRLS</td>      <th>  Log-Likelihood:    </th> <td> -300.59</td>\n",
       "</tr>\n",
       "<tr>\n",
       "  <th>Date:</th>            <td>Sat, 27 Apr 2024</td> <th>  Deviance:          </th> <td>  2390.0</td>\n",
       "</tr>\n",
       "<tr>\n",
       "  <th>Time:</th>                <td>10:27:03</td>     <th>  Pearson chi2:      </th> <td>2.39e+03</td>\n",
       "</tr>\n",
       "<tr>\n",
       "  <th>No. Iterations:</th>          <td>3</td>        <th>  Pseudo R-squ. (CS):</th>  <td>0.1996</td> \n",
       "</tr>\n",
       "<tr>\n",
       "  <th>Covariance Type:</th>     <td>nonrobust</td>    <th>                     </th>     <td> </td>   \n",
       "</tr>\n",
       "</table>\n",
       "<table class=\"simpletable\">\n",
       "<tr>\n",
       "    <td></td>       <th>coef</th>     <th>std err</th>      <th>z</th>      <th>P>|z|</th>  <th>[0.025</th>    <th>0.975]</th>  \n",
       "</tr>\n",
       "<tr>\n",
       "  <th>const</th> <td>    0.7517</td> <td>    0.661</td> <td>    1.137</td> <td> 0.256</td> <td>   -0.544</td> <td>    2.048</td>\n",
       "</tr>\n",
       "<tr>\n",
       "  <th>x1</th>    <td>    1.9320</td> <td>    0.483</td> <td>    3.998</td> <td> 0.000</td> <td>    0.985</td> <td>    2.879</td>\n",
       "</tr>\n",
       "<tr>\n",
       "  <th>x2</th>    <td>    3.0043</td> <td>    1.010</td> <td>    2.973</td> <td> 0.003</td> <td>    1.024</td> <td>    4.985</td>\n",
       "</tr>\n",
       "</table>"
      ],
      "text/latex": [
       "\\begin{center}\n",
       "\\begin{tabular}{lclc}\n",
       "\\toprule\n",
       "\\textbf{Dep. Variable:}   &        y         & \\textbf{  No. Observations:  } &      100    \\\\\n",
       "\\textbf{Model:}           &       GLM        & \\textbf{  Df Residuals:      } &       97    \\\\\n",
       "\\textbf{Model Family:}    &     Gaussian     & \\textbf{  Df Model:          } &        2    \\\\\n",
       "\\textbf{Link Function:}   &     Identity     & \\textbf{  Scale:             } &    24.640   \\\\\n",
       "\\textbf{Method:}          &      BIRLS       & \\textbf{  Log-Likelihood:    } &   -300.59   \\\\\n",
       "\\textbf{Date:}            & Sat, 27 Apr 2024 & \\textbf{  Deviance:          } &    2390.0   \\\\\n",
       "\\textbf{Time:}            &     10:27:03     & \\textbf{  Pearson chi2:      } &  2.39e+03   \\\\\n",
       "\\textbf{No. Iterations:}  &        3         & \\textbf{  Pseudo R-squ. (CS):} &   0.1996    \\\\\n",
       "\\textbf{Covariance Type:} &    nonrobust     & \\textbf{                     } &             \\\\\n",
       "\\bottomrule\n",
       "\\end{tabular}\n",
       "\\begin{tabular}{lcccccc}\n",
       "               & \\textbf{coef} & \\textbf{std err} & \\textbf{z} & \\textbf{P$> |$z$|$} & \\textbf{[0.025} & \\textbf{0.975]}  \\\\\n",
       "\\midrule\n",
       "\\textbf{const} &       0.7517  &        0.661     &     1.137  &         0.256        &       -0.544    &        2.048     \\\\\n",
       "\\textbf{x1}    &       1.9320  &        0.483     &     3.998  &         0.000        &        0.985    &        2.879     \\\\\n",
       "\\textbf{x2}    &       3.0043  &        1.010     &     2.973  &         0.003        &        1.024    &        4.985     \\\\\n",
       "\\bottomrule\n",
       "\\end{tabular}\n",
       "%\\caption{Generalized Linear Model Regression Results}\n",
       "\\end{center}"
      ],
      "text/plain": [
       "<class 'statsmodels.iolib.summary.Summary'>\n",
       "\"\"\"\n",
       "                 Generalized Linear Model Regression Results                  \n",
       "==============================================================================\n",
       "Dep. Variable:                      y   No. Observations:                  100\n",
       "Model:                            GLM   Df Residuals:                       97\n",
       "Model Family:                Gaussian   Df Model:                            2\n",
       "Link Function:               Identity   Scale:                          24.640\n",
       "Method:                         BIRLS   Log-Likelihood:                -300.59\n",
       "Date:                Sat, 27 Apr 2024   Deviance:                       2390.0\n",
       "Time:                        10:27:03   Pearson chi2:                 2.39e+03\n",
       "No. Iterations:                     3   Pseudo R-squ. (CS):             0.1996\n",
       "Covariance Type:            nonrobust                                         \n",
       "==============================================================================\n",
       "                 coef    std err          z      P>|z|      [0.025      0.975]\n",
       "------------------------------------------------------------------------------\n",
       "const          0.7517      0.661      1.137      0.256      -0.544       2.048\n",
       "x1             1.9320      0.483      3.998      0.000       0.985       2.879\n",
       "x2             3.0043      1.010      2.973      0.003       1.024       4.985\n",
       "==============================================================================\n",
       "\"\"\""
      ]
     },
     "execution_count": 45,
     "metadata": {},
     "output_type": "execute_result"
    }
   ],
   "source": [
    "M7 = GLM(endog = y2,\n",
    "            exog = df.drop(columns = \"y\"),\n",
    "            family = families.Gaussian()).fit(method = \"BIRLS\",\n",
    "                                              prior_scale = np.inf,\n",
    "                                              prior_df = np.inf)\n",
    "M7.summary()"
   ]
  },
  {
   "cell_type": "markdown",
   "metadata": {},
   "source": [
    "### bayesglm with categorical variables"
   ]
  },
  {
   "cell_type": "code",
   "execution_count": 46,
   "metadata": {},
   "outputs": [
    {
     "name": "stdout",
     "output_type": "stream",
     "text": [
      "[1] \"15\" \"16\" \"17\" \"18\"\n"
     ]
    }
   ],
   "source": [
    "%%R\n",
    "z1 <- trunc(runif(n, 4, 9))\n",
    "levels(factor(z1))\n",
    "z2 <- trunc(runif(n, 15, 19))\n",
    "levels(factor(z2))"
   ]
  },
  {
   "cell_type": "code",
   "execution_count": 48,
   "metadata": {},
   "outputs": [],
   "source": [
    "z1 = np.array(robjects.globalenv['z1'])\n",
    "z2 = np.array(robjects.globalenv['z2'])"
   ]
  },
  {
   "cell_type": "markdown",
   "metadata": {},
   "source": [
    "### Compare behavior M8"
   ]
  },
  {
   "cell_type": "code",
   "execution_count": 50,
   "metadata": {},
   "outputs": [
    {
     "name": "stdout",
     "output_type": "stream",
     "text": [
      "arm::bayesglm(formula = y ~ x1 + factor(z1) + factor(z2), family = binomial(link = \"logit\"), \n",
      "    prior.scale = 2.5, prior.df = Inf)\n",
      "             coef.est coef.se\n",
      "(Intercept)  -0.23     0.62  \n",
      "x1           -0.24     0.20  \n",
      "factor(z1)5  -0.47     0.62  \n",
      "factor(z1)6  -0.32     0.59  \n",
      "factor(z1)7  -0.29     0.67  \n",
      "factor(z1)8  -0.21     0.61  \n",
      "factor(z2)16  0.04     0.67  \n",
      "factor(z2)17  0.23     0.64  \n",
      "factor(z2)18  0.38     0.62  \n",
      "---\n",
      "n = 100, k = 9\n",
      "residual deviance = 133.9, null deviance = 136.7 (difference = 2.8)\n"
     ]
    }
   ],
   "source": [
    "%%R\n",
    "## drop the base level (R default)\n",
    "M8 <- arm::bayesglm (y ~ x1 + factor(z1) + factor(z2),\n",
    "family=binomial(link=\"logit\"), prior.scale=2.5, prior.df=Inf)\n",
    "arm::display (M8)"
   ]
  },
  {
   "cell_type": "code",
   "execution_count": 78,
   "metadata": {},
   "outputs": [
    {
     "data": {
      "text/html": [
       "<div>\n",
       "<style scoped>\n",
       "    .dataframe tbody tr th:only-of-type {\n",
       "        vertical-align: middle;\n",
       "    }\n",
       "\n",
       "    .dataframe tbody tr th {\n",
       "        vertical-align: top;\n",
       "    }\n",
       "\n",
       "    .dataframe thead th {\n",
       "        text-align: right;\n",
       "    }\n",
       "</style>\n",
       "<table border=\"1\" class=\"dataframe\">\n",
       "  <thead>\n",
       "    <tr style=\"text-align: right;\">\n",
       "      <th></th>\n",
       "      <th>const</th>\n",
       "      <th>x1</th>\n",
       "      <th>5.0</th>\n",
       "      <th>6.0</th>\n",
       "      <th>7.0</th>\n",
       "      <th>8.0</th>\n",
       "      <th>16.0</th>\n",
       "      <th>17.0</th>\n",
       "      <th>18.0</th>\n",
       "    </tr>\n",
       "  </thead>\n",
       "  <tbody>\n",
       "    <tr>\n",
       "      <th>0</th>\n",
       "      <td>1.0</td>\n",
       "      <td>-0.204708</td>\n",
       "      <td>0</td>\n",
       "      <td>0</td>\n",
       "      <td>0</td>\n",
       "      <td>1</td>\n",
       "      <td>1</td>\n",
       "      <td>0</td>\n",
       "      <td>0</td>\n",
       "    </tr>\n",
       "    <tr>\n",
       "      <th>1</th>\n",
       "      <td>1.0</td>\n",
       "      <td>0.478943</td>\n",
       "      <td>1</td>\n",
       "      <td>0</td>\n",
       "      <td>0</td>\n",
       "      <td>0</td>\n",
       "      <td>0</td>\n",
       "      <td>0</td>\n",
       "      <td>1</td>\n",
       "    </tr>\n",
       "    <tr>\n",
       "      <th>2</th>\n",
       "      <td>1.0</td>\n",
       "      <td>-0.519439</td>\n",
       "      <td>0</td>\n",
       "      <td>1</td>\n",
       "      <td>0</td>\n",
       "      <td>0</td>\n",
       "      <td>0</td>\n",
       "      <td>0</td>\n",
       "      <td>0</td>\n",
       "    </tr>\n",
       "    <tr>\n",
       "      <th>3</th>\n",
       "      <td>1.0</td>\n",
       "      <td>-0.555730</td>\n",
       "      <td>0</td>\n",
       "      <td>0</td>\n",
       "      <td>0</td>\n",
       "      <td>0</td>\n",
       "      <td>0</td>\n",
       "      <td>0</td>\n",
       "      <td>1</td>\n",
       "    </tr>\n",
       "    <tr>\n",
       "      <th>4</th>\n",
       "      <td>1.0</td>\n",
       "      <td>1.965781</td>\n",
       "      <td>0</td>\n",
       "      <td>1</td>\n",
       "      <td>0</td>\n",
       "      <td>0</td>\n",
       "      <td>0</td>\n",
       "      <td>1</td>\n",
       "      <td>0</td>\n",
       "    </tr>\n",
       "  </tbody>\n",
       "</table>\n",
       "</div>"
      ],
      "text/plain": [
       "   const        x1  5.0  6.0  7.0  8.0  16.0  17.0  18.0\n",
       "0    1.0 -0.204708    0    0    0    1     1     0     0\n",
       "1    1.0  0.478943    1    0    0    0     0     0     1\n",
       "2    1.0 -0.519439    0    1    0    0     0     0     0\n",
       "3    1.0 -0.555730    0    0    0    0     0     0     1\n",
       "4    1.0  1.965781    0    1    0    0     0     1     0"
      ]
     },
     "execution_count": 78,
     "metadata": {},
     "output_type": "execute_result"
    }
   ],
   "source": [
    "df2 = pd.concat([pd.Series(const, name=\"const\"),\n",
    "                 pd.Series(x1, name = \"x1\"),\n",
    "                 pd.get_dummies(z1, drop_first=True),\n",
    "                 pd.get_dummies(z2, drop_first=True)],\n",
    "                 axis = 1)\n",
    "df2.head()"
   ]
  },
  {
   "cell_type": "code",
   "execution_count": 79,
   "metadata": {},
   "outputs": [
    {
     "data": {
      "text/html": [
       "<table class=\"simpletable\">\n",
       "<caption>Generalized Linear Model Regression Results</caption>\n",
       "<tr>\n",
       "  <th>Dep. Variable:</th>           <td>y</td>        <th>  No. Observations:  </th>  <td>   100</td> \n",
       "</tr>\n",
       "<tr>\n",
       "  <th>Model:</th>                  <td>GLM</td>       <th>  Df Residuals:      </th>  <td>    91</td> \n",
       "</tr>\n",
       "<tr>\n",
       "  <th>Model Family:</th>        <td>Binomial</td>     <th>  Df Model:          </th>  <td>     8</td> \n",
       "</tr>\n",
       "<tr>\n",
       "  <th>Link Function:</th>         <td>Logit</td>      <th>  Scale:             </th> <td>  1.0000</td>\n",
       "</tr>\n",
       "<tr>\n",
       "  <th>Method:</th>                <td>BIRLS</td>      <th>  Log-Likelihood:    </th> <td> -66.925</td>\n",
       "</tr>\n",
       "<tr>\n",
       "  <th>Date:</th>            <td>Sat, 27 Apr 2024</td> <th>  Deviance:          </th> <td>  133.85</td>\n",
       "</tr>\n",
       "<tr>\n",
       "  <th>Time:</th>                <td>10:45:09</td>     <th>  Pearson chi2:      </th>  <td>  99.7</td> \n",
       "</tr>\n",
       "<tr>\n",
       "  <th>No. Iterations:</th>          <td>5</td>        <th>  Pseudo R-squ. (CS):</th>  <td>0.02773</td>\n",
       "</tr>\n",
       "<tr>\n",
       "  <th>Covariance Type:</th>     <td>nonrobust</td>    <th>                     </th>     <td> </td>   \n",
       "</tr>\n",
       "</table>\n",
       "<table class=\"simpletable\">\n",
       "<tr>\n",
       "    <td></td>       <th>coef</th>     <th>std err</th>      <th>z</th>      <th>P>|z|</th>  <th>[0.025</th>    <th>0.975]</th>  \n",
       "</tr>\n",
       "<tr>\n",
       "  <th>const</th> <td>   -0.2313</td> <td>    0.620</td> <td>   -0.373</td> <td> 0.709</td> <td>   -1.446</td> <td>    0.984</td>\n",
       "</tr>\n",
       "<tr>\n",
       "  <th>x1</th>    <td>   -0.2394</td> <td>    0.203</td> <td>   -1.178</td> <td> 0.239</td> <td>   -0.638</td> <td>    0.159</td>\n",
       "</tr>\n",
       "<tr>\n",
       "  <th>5.0</th>   <td>   -0.4664</td> <td>    0.619</td> <td>   -0.753</td> <td> 0.451</td> <td>   -1.680</td> <td>    0.747</td>\n",
       "</tr>\n",
       "<tr>\n",
       "  <th>6.0</th>   <td>   -0.3214</td> <td>    0.588</td> <td>   -0.546</td> <td> 0.585</td> <td>   -1.474</td> <td>    0.832</td>\n",
       "</tr>\n",
       "<tr>\n",
       "  <th>7.0</th>   <td>   -0.2859</td> <td>    0.666</td> <td>   -0.429</td> <td> 0.668</td> <td>   -1.591</td> <td>    1.019</td>\n",
       "</tr>\n",
       "<tr>\n",
       "  <th>8.0</th>   <td>   -0.2148</td> <td>    0.606</td> <td>   -0.354</td> <td> 0.723</td> <td>   -1.403</td> <td>    0.974</td>\n",
       "</tr>\n",
       "<tr>\n",
       "  <th>16.0</th>  <td>    0.0368</td> <td>    0.666</td> <td>    0.055</td> <td> 0.956</td> <td>   -1.268</td> <td>    1.342</td>\n",
       "</tr>\n",
       "<tr>\n",
       "  <th>17.0</th>  <td>    0.2291</td> <td>    0.642</td> <td>    0.357</td> <td> 0.721</td> <td>   -1.029</td> <td>    1.488</td>\n",
       "</tr>\n",
       "<tr>\n",
       "  <th>18.0</th>  <td>    0.3838</td> <td>    0.624</td> <td>    0.615</td> <td> 0.538</td> <td>   -0.839</td> <td>    1.607</td>\n",
       "</tr>\n",
       "</table>"
      ],
      "text/latex": [
       "\\begin{center}\n",
       "\\begin{tabular}{lclc}\n",
       "\\toprule\n",
       "\\textbf{Dep. Variable:}   &        y         & \\textbf{  No. Observations:  } &      100    \\\\\n",
       "\\textbf{Model:}           &       GLM        & \\textbf{  Df Residuals:      } &       91    \\\\\n",
       "\\textbf{Model Family:}    &     Binomial     & \\textbf{  Df Model:          } &        8    \\\\\n",
       "\\textbf{Link Function:}   &      Logit       & \\textbf{  Scale:             } &    1.0000   \\\\\n",
       "\\textbf{Method:}          &      BIRLS       & \\textbf{  Log-Likelihood:    } &   -66.925   \\\\\n",
       "\\textbf{Date:}            & Sat, 27 Apr 2024 & \\textbf{  Deviance:          } &    133.85   \\\\\n",
       "\\textbf{Time:}            &     10:45:09     & \\textbf{  Pearson chi2:      } &     99.7    \\\\\n",
       "\\textbf{No. Iterations:}  &        5         & \\textbf{  Pseudo R-squ. (CS):} &  0.02773    \\\\\n",
       "\\textbf{Covariance Type:} &    nonrobust     & \\textbf{                     } &             \\\\\n",
       "\\bottomrule\n",
       "\\end{tabular}\n",
       "\\begin{tabular}{lcccccc}\n",
       "               & \\textbf{coef} & \\textbf{std err} & \\textbf{z} & \\textbf{P$> |$z$|$} & \\textbf{[0.025} & \\textbf{0.975]}  \\\\\n",
       "\\midrule\n",
       "\\textbf{const} &      -0.2313  &        0.620     &    -0.373  &         0.709        &       -1.446    &        0.984     \\\\\n",
       "\\textbf{x1}    &      -0.2394  &        0.203     &    -1.178  &         0.239        &       -0.638    &        0.159     \\\\\n",
       "\\textbf{5.0}   &      -0.4664  &        0.619     &    -0.753  &         0.451        &       -1.680    &        0.747     \\\\\n",
       "\\textbf{6.0}   &      -0.3214  &        0.588     &    -0.546  &         0.585        &       -1.474    &        0.832     \\\\\n",
       "\\textbf{7.0}   &      -0.2859  &        0.666     &    -0.429  &         0.668        &       -1.591    &        1.019     \\\\\n",
       "\\textbf{8.0}   &      -0.2148  &        0.606     &    -0.354  &         0.723        &       -1.403    &        0.974     \\\\\n",
       "\\textbf{16.0}  &       0.0368  &        0.666     &     0.055  &         0.956        &       -1.268    &        1.342     \\\\\n",
       "\\textbf{17.0}  &       0.2291  &        0.642     &     0.357  &         0.721        &       -1.029    &        1.488     \\\\\n",
       "\\textbf{18.0}  &       0.3838  &        0.624     &     0.615  &         0.538        &       -0.839    &        1.607     \\\\\n",
       "\\bottomrule\n",
       "\\end{tabular}\n",
       "%\\caption{Generalized Linear Model Regression Results}\n",
       "\\end{center}"
      ],
      "text/plain": [
       "<class 'statsmodels.iolib.summary.Summary'>\n",
       "\"\"\"\n",
       "                 Generalized Linear Model Regression Results                  \n",
       "==============================================================================\n",
       "Dep. Variable:                      y   No. Observations:                  100\n",
       "Model:                            GLM   Df Residuals:                       91\n",
       "Model Family:                Binomial   Df Model:                            8\n",
       "Link Function:                  Logit   Scale:                          1.0000\n",
       "Method:                         BIRLS   Log-Likelihood:                -66.925\n",
       "Date:                Sat, 27 Apr 2024   Deviance:                       133.85\n",
       "Time:                        10:45:09   Pearson chi2:                     99.7\n",
       "No. Iterations:                     5   Pseudo R-squ. (CS):            0.02773\n",
       "Covariance Type:            nonrobust                                         \n",
       "==============================================================================\n",
       "                 coef    std err          z      P>|z|      [0.025      0.975]\n",
       "------------------------------------------------------------------------------\n",
       "const         -0.2313      0.620     -0.373      0.709      -1.446       0.984\n",
       "x1            -0.2394      0.203     -1.178      0.239      -0.638       0.159\n",
       "5.0           -0.4664      0.619     -0.753      0.451      -1.680       0.747\n",
       "6.0           -0.3214      0.588     -0.546      0.585      -1.474       0.832\n",
       "7.0           -0.2859      0.666     -0.429      0.668      -1.591       1.019\n",
       "8.0           -0.2148      0.606     -0.354      0.723      -1.403       0.974\n",
       "16.0           0.0368      0.666      0.055      0.956      -1.268       1.342\n",
       "17.0           0.2291      0.642      0.357      0.721      -1.029       1.488\n",
       "18.0           0.3838      0.624      0.615      0.538      -0.839       1.607\n",
       "==============================================================================\n",
       "\"\"\""
      ]
     },
     "execution_count": 79,
     "metadata": {},
     "output_type": "execute_result"
    }
   ],
   "source": [
    "M8 = GLM(endog = y,\n",
    "            exog = df2,\n",
    "            family = families.Binomial()).fit(method = \"BIRLS\",\n",
    "                                              prior_scale = 2.5,\n",
    "                                              prior_df = np.inf)\n",
    "M8.summary()"
   ]
  },
  {
   "cell_type": "markdown",
   "metadata": {},
   "source": [
    "There are two more examples given in the documentation, but they're tedious to replicate within the limitation os rpy2 behavior."
   ]
  },
  {
   "cell_type": "markdown",
   "metadata": {},
   "source": [
    "# Translation Notes"
   ]
  },
  {
   "cell_type": "markdown",
   "metadata": {},
   "source": [
    "The Bayes Generalized Linear Model (BGLM) is available in R through the `arm` [package](https://cran.r-project.org/web/packages/arm/arm.pdf) and was released with the corresponding paper titled [A Weakly Informative Default Prior Distribution for Logistic and other Regression Models](http://www.stat.columbia.edu/~gelman/research/published/priors11.pdf). BGLM is a Generalized Linear Model (GLM) that accepts prior mean, prior standard deviation, and prior degrees of freedom for the coefficients, and fits a model with additional pseudo-data points. While these values can be set, they also have out-of-the-box settings designed to generalized well with \"weakly informative\" default values. \n",
    "\n",
    "The BGLM model is available in R through the `arm` package through the `bayesglm` command which is built off of the standard `glm` implementation found in the R `stats` library. From the corresponding paper: \n",
    "\n",
    "> \"We have implemented these computations by altering the `glm` function in R, creating a new function, `bayesglm`, that finds an approximate posterior mode and variance using extensions of the classical generalized linear model computations\".\n",
    "\n",
    "I was unable to find a Python package that implements the same BGLM algorithm as is found in the `arm` package. `statsmodels` does, however, contain a GLM model which was built to provide the same `glm` functionality in Python as is available in R. Since the `bayesglm` is built off the `glm` I used this as a starting point to translate the `bayesglm` process to Python. \n",
    "\n",
    "The process was to take the existing GLM from `statsmodels` which is accessed with\n",
    "```python\n",
    "from statsmodels.genmod.generalized_linear_model import GLM\n",
    "```\n",
    "\n",
    "And add an additional `method` argument, to solve the GLM with weakly informed priors. \n",
    "\n",
    "```python\n",
    "model = GLM(endog = endog, exog = exog, family = family)\n",
    "result = model.fit(method=\"BIRLS\") # New method here\n",
    "```\n",
    "\n",
    "Here I will break down the translation as it related to the paper as well as the `bayesglm` [codebase](https://github.com/suyusung/arm/blob/24bd6b3e1ebce5005b92c34a78f486908a436d37/R/bayesglm.R#L2) and the `bayesglm` [documentation in R](https://search.r-project.org/CRAN/refmans/arm/html/bayesglm.html). \n",
    "\n",
    "## Translation\n",
    "\n",
    "I start with the `.fit()` method in `statsmodels`. The `.fit()` method itself only calls up one of the two private methods (`._fit_gradient()` or `._fit_irls()`) which is determined by the `method` argument which is passed to `.fit()`. The new `.fit()` method just has an additional `elif` statement to kick into the new `_fit_bayes_birls()` or \"bayes iterative regularized least squares\". \n",
    "\n",
    "The `_fit_bayes_irls()` is very similar to the `._fit_irls()`. The Gelman paper on page 1367: \n",
    "> \"The standard logistic regression algorithm—upon which we build—proceeds by approximately linearizing the derivative of the log-likelihood, solving using weighted least squares, and then iterating this process, each step evaluating the derivatives at the latest estimate βˆ\"\n",
    "\n",
    "Therefore, I also begin by augmenting this process of solving using weighted least squares and iterating the process. Before the weighted least squares process begins, we need to implement the other novel component of BGLM: \"pseudo-data and pseudo-variance values based on linearization of the derivative of the log-likelihood\".\n",
    "\n",
    "In standard weighted least squares, we would have some `X` covariates matrix, some `y` target vector, and some `W` weights matrix. However, we use the prior information passed to the model and create a few additional pseudo-data points. \n",
    "\n",
    "The steps to create these additional data points are outline in the paper start on page 1366, as well as in the R code. They begin with a logistic model:\n",
    "\n",
    "$$Pr(y_i = 1) = logit^{-1}(X_i \\beta) $$\n",
    "\n",
    "Which is normally solved with maximum likelihood to get $\\beta$ as a $\\hat\\beta$ estimate and a covariance matrix $V_\\beta$ through the iterative least squares method mentioned earlier. \n",
    "\n",
    "However, the paper builds on this with: \n",
    "\n",
    "> \"At each iteration, the algorithm determines pseudo-data $z_i$ and pseduo-variacnes $(\\sigma_i^z)^2$ based on the linearization of the derivative of the log-likelihood.\"\n",
    "> $$z_i = X_i\\hat\\beta + \\frac{(1+e^{X_i\\hat\\beta})^2}{e^{X_i\\hat\\beta}}(y_i - \\frac{e^{X_i\\hat\\beta}}{1+e^{X_i\\hat\\beta}})$$\n",
    "> $$(\\sigma_i^z)^2 = \\frac{1}{n_i}\\frac{(1+e^{X_i\\hat\\beta})^2}{e^{X_i\\hat\\beta}}$$\n",
    "> \"and then performs weighted least squares, regressing $z$ on $X$ with weight vector $(\\sigma^z)^{-2}$. The resulting estimate $\\hat\\beta$ is used to update the computations [above], and the iteration proceeds until approximate convergence.\"\n",
    "\n",
    "### z star\n",
    "So here, we have $z_i$ and $(\\sigma_i^z)^2$, where $z_i$ is in the code as `y` observations or `endog`.\n",
    "\n",
    "In R we have \n",
    "```R\n",
    "z <- (eta - offset)[good] + (y - mu)[good]/mu.eta.val[good]\n",
    "```\n",
    "We can break this down a bit. First, the `[good]` is just a filter for valid values, we can ignore this for now. The default `offset` value is also 0, so this can be ignored as well, leaving:\n",
    "```R\n",
    "z <- eta + (y - mu)/mu.eta.val\n",
    "```\n",
    "Which should correspond to our $z_i$ above. So we have 3 variables to look into further: `eta`, `mu` and `mu.eta.val` from R.\n",
    "\n",
    "First, `mu` is created from `eta` with the line `mu <- linkinv(eta)` which comes from `linkinv <- family$linkinv`. So for the specific family link (binomial in the logit case). There's a link inverse. In the R codebase, there is a line that calls `(eval(family$initialize))` that gives starting values for `mu` with the equation `mustart <- (n * y + 0.5)/(n + 1)`. We can see this same setup in Python with `self.family.starting_mu(self.endog)` available here https://www.statsmodels.org/dev/generated/statsmodels.genmod.families.family.Binomial.starting_mu.html. \n",
    "\n",
    "Next, the `eta` term in R is calculate as `family$linkfun(mustart)`. So, again the family-specific link function (logit in our translation example), takes starting values and calculates this `eta`. In Python the setup uses `lin_pred = self.family.predict(mu)`. \n",
    "\n",
    "Lastly, `mu.eta.val` in R is calculated as `mu.eta.val <- mu.eta(eta)` where `mu.eta` is a \"function: derivative of the inverse-link function with respect to the linear predictor\". See: https://stat.ethz.ch/R-manual/R-devel/library/stats/html/family.html. \n",
    "\n",
    "\n",
    "| R              | Python                       | Paper                                 | Paper Notation                                    | Notes                                                                                                                               |\n",
    "| -------------- | ---------------------------- | ------------------------------------- | ------------------------------------------------- | ----------------------------------------------------------------------------------------------------------------------------------- |\n",
    "| `eta`          | `lin_pred`                   | \"linear predictor\"                    | $X_i * \\beta$                                     | `lin_pred = np.dot(self.exog, wls_results.params)`                                                                                  |\n",
    "| `1/mu.eta.val` | `self.family.link.deriv(mu)` | \"derivative of the logistic function\" | $\\frac{(1+e^{X_i\\hat\\beta})^2}{e^{X_i\\hat\\beta}}$ | Inverse of $\\frac{\\partial \\mu}{\\partial \\eta}$.See [here](https://search.r-project.org/CRAN/refmans/LaplacesDemon/html/logit.html) |\n",
    "| `mu`           | `mu`                         | \"the expectation of y\"                | $logistic(X_i*\\beta)$                             |                                                                                                                                     |\n",
    "\n",
    "```python\n",
    "wlsendog = (\n",
    "                lin_pred # eta in R, $X_i\\hat\\beta$ in the paper\n",
    "                + self.family.link.deriv(mu) * (self.endog - mu)\n",
    "                - self._offset_exposure # 0 by default\n",
    "            )\n",
    "```\n",
    "\n",
    "So we now have the $z$ vector from the paper. This would be the same as standard GLM up to this point. However, according to equation (4) in the paper, we need to get $z_*$ by \"...combining the likelihood [$z$ and $\\sigma^z$, are the vectors of $z_i$'s and $\\sigma_i^z$'s defined in (2)...] .. and the prior [$\\mu$ and $\\sigma$]...\"\n",
    "\n",
    "Therefore, $z_*$ is a vector comprised of the standard covariate inputs and a prior derived from equation 3 in the paper, given as:\n",
    "\n",
    ">$$\\beta_j \\sim N(\\mu_j,\\sigma_j^2) \\text{ for $j$ = 1, ..., $J$}$$\n",
    "\n",
    "Therefore:\n",
    "\n",
    "> $$z_* = \\begin{pmatrix} z \\\\ \\mu \\end{pmatrix} $$\n",
    "\n",
    "At the code level, we need to append $\\mu$ to the $z_*$ vector. In R, this is set as `z.star <- c(z, prior.mean)` where prior mean is a constant argument included in the fit method. The constant is repeated to length `J` which is the number of features including intercept. In R `prior.mean <- rep(prior.mean, nvars)`. \n",
    "\n",
    "The Pythonic implementation then works the same by taking a constant mean and repeating it to the length of the covariates plus an intercept to achieve the `prior_mean` variable. The mean defaults to 0 as the paper states:\n",
    "> As a default choice, we recommend the Cauchy distribution with center 0 and scale 2.5 \n",
    "\n",
    "Giving `z_star = np.append(wlsendog, prior_mean)` as our first pseudo-data point. \n",
    "\n",
    "----\n",
    "### X star\n",
    "\n",
    "Next is the $X_*$ matrix of features with additional pseudo-data points, given in the paper as: \n",
    "\n",
    "> $$X_* = \\begin{pmatrix} X \\\\ I_J \\end{pmatrix} $$\n",
    "\n",
    "Where X is the covariate inputs or exogenous variables, and $I_J$ is the \"... $J \\times J$ identity matrix ...\", resulting in $X_*$ of shape $(n + J) \\times J$.\n",
    "\n",
    "In R, this is simply `x.star <- rbind(x, diag(NCOL(x)))` and in Python, this is:\n",
    "\n",
    "```python\n",
    "x_identity = np.identity(self.exog.shape[1])\n",
    "\n",
    "x_star = np.vstack((self.exog, x_identity))\n",
    "```\n",
    "Where `self.exog` is just the covariate inputs (often X in scikit-like implementations). \n",
    "\n",
    "----\n",
    "### w star\n",
    "\n",
    "Lastly, is the weights matrix with additional pseudo-data points, given in the paper as:\n",
    "\n",
    "> $$w_{*} = (\\sigma^2, \\sigma)^{-2} $$\n",
    "\n",
    "Which is a vector of weights initialized using the link function.\n",
    "\n",
    "In R, unless these are given to the function, then the weights are first initialized as all 1's: `weights <- rep.int(1, nobs)`  but then are passed through `w <- ((weights * mu.eta(eta)^2)/variance(mu))^0.5` where we again see the `mu.eta` and `mu` variables from before. \n",
    "\n",
    "In the Python implementation, the family-specific weights are taken from statsmodels using `self.weights = self.iweights * self.n_trials * self.family.weights(mu)`. Where `self.iweights` and `self.n_trials` are vectors of 1's for our implementation (the same as the R rep.int), so it's just multiplying those vectors by the family specific weight. See here for more details:\n",
    "https://www.statsmodels.org/devel/generated/statsmodels.genmod.families.family.Family.weights.html\n",
    "\n",
    "This gives us the $\\sigma^2$ value. To get the $\\sigma$ value, we use the `prior_scale` information, which by default is a value of 2.5. Which again comes from this part of the paper:\n",
    "\n",
    "> As a default choice, we recommend the Cauchy distribution with center 0 and scale 2.5\n",
    "\n",
    "This constant is repeated to a vector of size $J$ which is again the number of covariates.\n",
    "\n",
    "Note: In both R and Python, while the `prior_scale` variable ends up creating a `prior_standard_deviation` or `prior.sd` variable which is repeatedly updated during the iteration through the least squares process. In R, we have `w.star <- c(w, sqrt(dispersion)/prior.sd)`. In Python we have `w_star = np.append(self.weights, np.sqrt(dispersion) / prior_standard_deviation)`. \n",
    "\n",
    "----\n",
    "\n",
    "According to the Gelman paper, the advantage of setting up those pseudo-data points is:\n",
    "\n",
    "> \"With the augmented $X_∗$, this regression is identified, and, thus, the resulting estimate $\\hat\\beta$ is well defined and has finite variance, even if the original data have collinearity or separation that would result in nonidentifiability of the maximum likelihood estimate.\"\n",
    "\n",
    "\n",
    "So from there we can implement this portion of the paper:\n",
    "\n",
    "> \"The full computation is then iteratively weighted least squares, starting with a guess of $\\beta$ (for example, independent draws from the unit normal distribution), then computing the derivatives of the log-likelihood to compute $z$ and $\\sigma_z$, then using weighted least squares on the pseudo-data (4) to yield an updated estimate of $\\beta$, then recomputing the derivatives of the log-likelihood at this new value of $\\beta$, and so forth, converging to the estimate $\\hat\\beta$\"\n",
    "\n",
    "\n",
    "Much of this is implemented already in GLM, since a standard GLM would do the same iterative weighted least squares (WLS) process. We can see this in the GLM codebase here:\n",
    "\n",
    "```python\n",
    " wls_mod = reg_tools._MinimalWLS(wlsendog, wlsexog,\n",
    "                                            self.weights, check_endog=True,\n",
    "                                            check_weights=True)\n",
    "wls_results = wls_mod.fit(method=wls_method)\n",
    "```\n",
    "\n",
    "Each iteration updates a `history` dictionary which has keys `\"params\"` and `\"deviance\"`. Once the `deviance` is minimized the model is considered converged.\n",
    "\n",
    "The next line of the paper states that:\n",
    "\n",
    "> \"The covariance matrix $V_{\\beta}$ is simply the inverse second derivative matrix of the log-posterior density evaluated at $\\hat\\beta$— that is, the usual normal-theory uncertainty estimate for an estimate not on the boundary of parameter space.\"\n",
    "\n",
    "We need one additional step here in order to properly adapt this model. In the R package and in the paper, they are iteratively updating those prior pseudo-data points with results from each iteration of the WLS. Specifically, they create this $V_{\\beta}$ covariance matrix and use it to update the `prior_standard_deviation` which is used in the $w_{*}$ vector as the pseudo-data component.\n",
    "\n",
    "---\n",
    "### Calculating $V_{\\beta}$\n",
    "\n",
    "In R, $V_{\\beta}$ is calculated as follows:\n",
    "\n",
    "```R\n",
    "fit <- lm.fit(x = x.star[good.star, , drop = FALSE] * \n",
    "        w.star, y = z.star * w.star)\n",
    "\n",
    "fit$qr$qr <- as.matrix(fit$qr$qr)\n",
    "\n",
    "V.coefs <- chol2inv(fit$qr$qr[1:NCOL(x.star), 1:NCOL(x.star), \n",
    "        drop = FALSE])\n",
    "```\n",
    "\n",
    "I'll break this down, because it's difficult to decipher.\n",
    "\n",
    "First, `lm.fit()` is calling this function: https://www.rdocumentation.org/packages/stats/versions/3.6.2/topics/lm.fit\n",
    "which is notably different from calling `lm()` and fitting a linear model object!\n",
    "\n",
    ">`.lm.fit()` is bare bone wrapper to the innermost QR-based C code, on which glm.fit and lsfit are based as well, for even more experienced users.\n",
    "\n",
    "Under the hood, `lm.fit()` is calling some C code that calls some FORTRAN code that solved the least squares through the QR decomposition matrix. Here's a blog that goes into deep detail: http://madrury.github.io/jekyll/update/statistics/2016/07/20/lm-in-R.html. \n",
    "\n",
    "For our purposes though, least squares is solved by QR matrix decomposition which states that the covariate matrix $X$ can be solved through matrix $QR$ using the Householders Reflections algorithm. More details on that can be found here: https://www.quantstart.com/articles/QR-Decomposition-with-Python-and-NumPy/. \n",
    "\n",
    "So from above, we call `lm.fit()` with our $X_*$ matrix. We are returned a fit object that stores the QR values as `fit$qr$qr <- as.matrix(fit$qr$qr)`. We need the `qr` values to calculate the `V.coefs` object. In R, the `fit$qr` object can be manipulated to show us 3 matrices: $X$, $Q$, and $R$ with `qr.X(fit$qr)`, `qr.Q(fit$qr)`, and `qr.R(fit$qr)` respectively. The object `fit$qr$qr` itself is actually the matrices $Q$ and $R$ merged together, specifically with the upper right triangle of $Q$ being replaced with the upper right triangle of $R$. Since $R$ can contain values in the upper right, but the lower triangle will always be 0's. Here's a quick example of what that looks like, but the details are really not important, because this specific implementation ONLY WORKS IN R:\n",
    "\n",
    "\n",
    "$R$ matrix, note top right triangle are non-zero:\n",
    "```R\n",
    "\n",
    "Browse[6]> qr.R(fit$qr)\n",
    "  (Intercept)          x1         x2\n",
    "1   -4.331282 -0.04121481 -2.1656408\n",
    "2    0.000000 -4.38171150  0.1974073\n",
    "3    0.000000  0.00000000 -2.1928361\n",
    "```\n",
    "\n",
    "First 5 rows of the $Q$ matrix, note the upper right triangle\n",
    "```R\n",
    "Browse[6]> qr.Q(fit$qr)[1:5, 1:3]\n",
    "            [,1]        [,2]        [,3]\n",
    "[1,] -0.09997334 -0.09327594 -0.10713053\n",
    "[2,] -0.09997334 -0.09240598  0.09041475\n",
    "[3,] -0.09997334  0.11781638 -0.08812721\n",
    "[4,] -0.09997334 -0.04556677 -0.10283557\n",
    "[5,] -0.09997334  0.01824258  0.10037575\n",
    "```\n",
    "\n",
    "First 5 rows of the `fit$qr$qr`\n",
    "\n",
    "Note the upper right triangle IS the $R$ matrix\n",
    "\n",
    "Note the remainder of the matrix IS the $Q$ matrix\n",
    "```R\n",
    "Browse[6]> fit$qr$qr[1:5, 1:3]\n",
    "  (Intercept)          x1          x2\n",
    "1 -4.33128157 -0.04121481 -2.16564078\n",
    "2  0.09997334 -4.38171150  0.19740731\n",
    "3  0.09997334 -0.12629395 -2.19283614\n",
    "4  0.09997334  0.03708919  0.09652572\n",
    "5  0.09997334 -0.02672016 -0.11258139\n",
    "```\n",
    "\n",
    "In R, a subset of the `fit$qr$qr` matrix is used to create the `V.coef` variables as:\n",
    "\n",
    "```R\n",
    "V.coefs <- chol2inv(fit$qr$qr[1:NCOL(x.star), 1:NCOL(x.star), \n",
    "        drop = FALSE])\n",
    "```\n",
    "\n",
    "Where we take the cholskey inverse of that `fit$qr$` matrix using the `chol2inv` function, which we don't have in Python. Luckily, checking the docs it can easily be calculated: https://www.rdocumentation.org/packages/base/versions/3.6.2/topics/chol2inv.\n",
    "\n",
    "`chol2inv` is equivalent to calculating $(R'R)^{-1}$. So in Python, we just take the R component of the QR matrix decomposition. Then we calculate R Transpose times R and take the inverse of the result. \n",
    "\n",
    "This QR stuff is computation gymnastics for all OLS. [See this post for the math](https://math.stackexchange.com/a/687361). But in essence, this is a way to calculate the variance of the coefficients for all OLS models. This is true regardless of the solving method, since the result of OLS is deterministic.\n",
    "\n",
    "The use of the R matrix also seems to be either a convenience or computation thing, because you can get the same (np.close) answer with the weighted covariate matrixVar_with_X = np.linalg.inv(np.dot(wls_mod.wexog.T, wls_mod.wexog)).\n",
    "\n",
    "The last step with the $V_\\beta$ matrix is to updated the `prior_standard_deviation` variable and use it to updated the pseudo-data for the weights vector. In R: \n",
    "\n",
    "```R\n",
    " prior.sd <- ifelse(prior.df == Inf, prior.scale, \n",
    "        sqrt(((coefs.hat - prior.mean)^2 + diag(V.coefs) * \n",
    "          dispersion + prior.df * prior.scale^2)/(1 + \n",
    "          prior.df)))\n",
    "```\n",
    "\n",
    "Pythonically:\n",
    "```python\n",
    "if self.prior_df == np.Infinity:\n",
    "    prior_standard_deviation = prior_scale.copy()\n",
    "else:\n",
    "    prior_standard_deviation = np.sqrt(\n",
    "        (\n",
    "            ((wls_results.params - self.prior_mean) ** 2)\n",
    "            + np.diag(v_coefs) * dispersion\n",
    "            + self.prior_df * prior_scale**2\n",
    "        )\n",
    "        / (prior_df + 1)\n",
    "    )\n",
    "```\n",
    "\n",
    "More detail on this is given in equation (8) in the Gelman paper:\n",
    "\n",
    "> $$ \\hat\\sigma^2 = \\frac{(\\hat\\beta_j - \\mu_j)^2 + (V_\\beta)_{jj} + v_js_j^2}{1+v_j}$$\n",
    "\n",
    "> which corresponds to the (approximate) posterior mode of σj2 given a single\n",
    "measurement with value (7) and an $Inv-\\chi^2 (v_j , s_j^2 )$ prior distribution.\n",
    "\n",
    "The paper contains more details on this exact implementation. For this above equation (8), the code is clear as to where this is implemented. Equations 5 and 6 are not as clear though, and are noted as being implemented only when the \"coefficients on $\\beta_j$ have independent $t$ prior distributions with centers $\\mu_j$ and scales $s_j$...\"\n",
    "\n",
    "The rest of the algorithm continues as the GLM does normally. The last bit of the new method just implements the standard glm results wrapper.\n",
    "\n",
    "## Scope of this Translation\n",
    "What will separate this BGLM implementation from standard GLM is both in the details in the solver (above), but also in our added flexibility for prior inputs to the model. One notable difference between R and Python flexibility is that we have not (as of writing) implemented all bells and whistles from the BGLM R package. Namely, these are the arguments for R's bayesglm.fit:\n",
    "\n",
    "```R\n",
    "function (x, y, weights = rep(1, nobs), start = NULL, etastart = NULL, \n",
    "mustart = NULL, offset = rep(0, nobs), family = gaussian(), \n",
    "control = list(), intercept = TRUE, prior.mean = 0, prior.scale = NULL, prior.df = 1, prior.mean.for.intercept = 0, prior.scale.for.intercept = NULL, prior.df.for.intercept = 1, min.prior.scale = 1e-12, scaled = TRUE, \n",
    "print.unnormalized.log.posterior = FALSE, Warning = TRUE)\n",
    "```\n",
    "\n",
    "For our model, we currently only retain:\n",
    "\n",
    "```python\n",
    "    def _fit_bayes_irls(\n",
    "        self,\n",
    "        start_params=None,\n",
    "        maxiter: int = 100,\n",
    "        tol: float = 1e-8,\n",
    "        cov_type: str = \"nonrobust\",\n",
    "        cov_kwds=None,\n",
    "        use_t=None,\n",
    "        weights: np.array = None,\n",
    "        perform_scale: bool = True,\n",
    "        prior_mean: float = 0,\n",
    "        prior_scale: float = DEFAULT,\n",
    "        prior_df: float = 1,\n",
    "        prior_mean_for_intercept: float = 0,\n",
    "        prior_scale_for_intercept: float = DEFAULT,\n",
    "        prior_df_for_intercept: float = 1,\n",
    "        **kwargs)\n",
    "```\n",
    "Which we believe is a faithful representation of the core functionality. As an example, we do implement a `prior_scale` functionality but currently don't support a `min.prior.scale`"
   ]
  }
 ],
 "metadata": {
  "kernelspec": {
   "display_name": ".venv",
   "language": "python",
   "name": "python3"
  },
  "language_info": {
   "codemirror_mode": {
    "name": "ipython",
    "version": 3
   },
   "file_extension": ".py",
   "mimetype": "text/x-python",
   "name": "python",
   "nbconvert_exporter": "python",
   "pygments_lexer": "ipython3",
   "version": "3.9.12"
  }
 },
 "nbformat": 4,
 "nbformat_minor": 2
}
