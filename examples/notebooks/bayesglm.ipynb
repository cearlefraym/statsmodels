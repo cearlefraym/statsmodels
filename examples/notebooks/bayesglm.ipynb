{
 "cells": [
  {
   "cell_type": "code",
   "execution_count": null,
   "metadata": {},
   "outputs": [],
   "source": [
    "!pip install rpy2"
   ]
  },
  {
   "cell_type": "code",
   "execution_count": 1,
   "metadata": {},
   "outputs": [],
   "source": [
    "%load_ext rpy2.ipython"
   ]
  },
  {
   "cell_type": "code",
   "execution_count": 2,
   "metadata": {},
   "outputs": [],
   "source": [
    "import rpy2.robjects.packages as rpackages\n",
    "from rpy2.robjects.vectors import StrVector\n",
    "import rpy2.robjects as robjects\n",
    "\n",
    "from statsmodels.genmod import families\n",
    "from statsmodels.genmod.generalized_linear_model import GLM\n",
    "\n",
    "import json\n",
    "import numpy as np\n",
    "import pandas as pd\n",
    "from scipy.special import expit"
   ]
  },
  {
   "cell_type": "code",
   "execution_count": 18,
   "metadata": {},
   "outputs": [],
   "source": [
    "model_families = {\n",
    "    \"gaussian\": families.Gaussian(),\n",
    "    \"logit\": families.Binomial(),  # Logit by default\n",
    "    \"probit\": families.Binomial(link=families.links.Probit()),\n",
    "    \"poisson\": families.Poisson(),\n",
    "}\n",
    "\n",
    "model_family_strings = [\n",
    "        \"gaussian\",\n",
    "        \"logit\",\n",
    "        \"probit\",\n",
    "        \"poisson\",\n",
    "    ]"
   ]
  },
  {
   "cell_type": "code",
   "execution_count": 4,
   "metadata": {},
   "outputs": [],
   "source": [
    "# Choosing a CRAN Mirror\n",
    "# utils = rpackages.importr('utils')\n",
    "# utils.chooseCRANmirror(ind=1)\n",
    "\n",
    "# # Installing required packages\n",
    "# packages = ('arm', 'rjson')\n",
    "# utils.install_packages(StrVector(packages))"
   ]
  },
  {
   "cell_type": "markdown",
   "metadata": {},
   "source": [
    "## Generate Test Data Set"
   ]
  },
  {
   "cell_type": "code",
   "execution_count": 5,
   "metadata": {},
   "outputs": [
    {
     "data": {
      "text/html": [
       "<div>\n",
       "<style scoped>\n",
       "    .dataframe tbody tr th:only-of-type {\n",
       "        vertical-align: middle;\n",
       "    }\n",
       "\n",
       "    .dataframe tbody tr th {\n",
       "        vertical-align: top;\n",
       "    }\n",
       "\n",
       "    .dataframe thead th {\n",
       "        text-align: right;\n",
       "    }\n",
       "</style>\n",
       "<table border=\"1\" class=\"dataframe\">\n",
       "  <thead>\n",
       "    <tr style=\"text-align: right;\">\n",
       "      <th></th>\n",
       "      <th>y</th>\n",
       "      <th>const</th>\n",
       "      <th>x1</th>\n",
       "      <th>x2</th>\n",
       "    </tr>\n",
       "  </thead>\n",
       "  <tbody>\n",
       "    <tr>\n",
       "      <th>0</th>\n",
       "      <td>1.0</td>\n",
       "      <td>1.0</td>\n",
       "      <td>-0.204708</td>\n",
       "      <td>0.0</td>\n",
       "    </tr>\n",
       "    <tr>\n",
       "      <th>1</th>\n",
       "      <td>1.0</td>\n",
       "      <td>1.0</td>\n",
       "      <td>0.478943</td>\n",
       "      <td>0.0</td>\n",
       "    </tr>\n",
       "    <tr>\n",
       "      <th>2</th>\n",
       "      <td>0.0</td>\n",
       "      <td>1.0</td>\n",
       "      <td>-0.519439</td>\n",
       "      <td>0.0</td>\n",
       "    </tr>\n",
       "    <tr>\n",
       "      <th>3</th>\n",
       "      <td>0.0</td>\n",
       "      <td>1.0</td>\n",
       "      <td>-0.555730</td>\n",
       "      <td>0.0</td>\n",
       "    </tr>\n",
       "    <tr>\n",
       "      <th>4</th>\n",
       "      <td>1.0</td>\n",
       "      <td>1.0</td>\n",
       "      <td>1.965781</td>\n",
       "      <td>0.0</td>\n",
       "    </tr>\n",
       "  </tbody>\n",
       "</table>\n",
       "</div>"
      ],
      "text/plain": [
       "     y  const        x1   x2\n",
       "0  1.0    1.0 -0.204708  0.0\n",
       "1  1.0    1.0  0.478943  0.0\n",
       "2  0.0    1.0 -0.519439  0.0\n",
       "3  0.0    1.0 -0.555730  0.0\n",
       "4  1.0    1.0  1.965781  0.0"
      ]
     },
     "execution_count": 5,
     "metadata": {},
     "output_type": "execute_result"
    }
   ],
   "source": [
    "np.random.seed(12345)\n",
    "n = 100\n",
    "x1 = np.random.normal(size=n)\n",
    "x2 = np.random.binomial(1, 0.5, n)\n",
    "b0 = 1\n",
    "b1 = 1.5\n",
    "b2 = 2\n",
    "const = np.ones(n)\n",
    "y = np.random.binomial(1, expit(b0 + b1 * x1 + b2 * x2), n)\n",
    "X = np.transpose(np.vstack([const, x1, x2]))\n",
    "\n",
    "df = pd.DataFrame(\n",
    "    np.hstack((y.reshape(100, 1), X.reshape(100, 3))),\n",
    "    columns=[\"y\", \"const\", \"x1\", \"x2\"],\n",
    ")\n",
    "\n",
    "df.head()"
   ]
  },
  {
   "cell_type": "code",
   "execution_count": 6,
   "metadata": {},
   "outputs": [
    {
     "name": "stdout",
     "output_type": "stream",
     "text": [
      "Warning in install.packages(c(\"arm\", \"rjson\")) :\n",
      "  'lib = \"/Library/Frameworks/R.framework/Versions/4.3-x86_64/Resources/library\"' is not writable\n",
      "Error in install.packages(c(\"arm\", \"rjson\")) : unable to install packages\n"
     ]
    },
    {
     "ename": "RInterpreterError",
     "evalue": "Failed to parse and evaluate line 'install.packages(c(\"arm\", \"rjson\"))\\n'.\nR error message: 'Error in install.packages(c(\"arm\", \"rjson\")) : unable to install packages'\nR stdout:\nWarning in install.packages(c(\"arm\", \"rjson\")) :\n  'lib = \"/Library/Frameworks/R.framework/Versions/4.3-x86_64/Resources/library\"' is not writable\nError in install.packages(c(\"arm\", \"rjson\")) : unable to install packages",
     "output_type": "error",
     "traceback": [
      "\u001b[0;31m---------------------------------------------------------------------------\u001b[0m",
      "\u001b[0;31mRRuntimeError\u001b[0m                             Traceback (most recent call last)",
      "File \u001b[0;32m~/Documents/GitHub/statsmodels/.venv/lib/python3.9/site-packages/rpy2/ipython/rmagic.py:407\u001b[0m, in \u001b[0;36mRMagics.eval\u001b[0;34m(self, code)\u001b[0m\n\u001b[1;32m    406\u001b[0m     r_expr \u001b[38;5;241m=\u001b[39m ri\u001b[38;5;241m.\u001b[39mparse(code)\n\u001b[0;32m--> 407\u001b[0m     value, visible \u001b[38;5;241m=\u001b[39m \u001b[43mri\u001b[49m\u001b[38;5;241;43m.\u001b[39;49m\u001b[43mevalr_expr_with_visible\u001b[49m\u001b[43m(\u001b[49m\n\u001b[1;32m    408\u001b[0m \u001b[43m        \u001b[49m\u001b[43mr_expr\u001b[49m\n\u001b[1;32m    409\u001b[0m \u001b[43m    \u001b[49m\u001b[43m)\u001b[49m\n\u001b[1;32m    410\u001b[0m \u001b[38;5;28;01mexcept\u001b[39;00m (ri\u001b[38;5;241m.\u001b[39membedded\u001b[38;5;241m.\u001b[39mRRuntimeError, \u001b[38;5;167;01mValueError\u001b[39;00m) \u001b[38;5;28;01mas\u001b[39;00m exception:\n\u001b[1;32m    411\u001b[0m     \u001b[38;5;66;03m# Otherwise next return seems to have copy of error.\u001b[39;00m\n",
      "File \u001b[0;32m~/Documents/GitHub/statsmodels/.venv/lib/python3.9/site-packages/rpy2/rinterface.py:196\u001b[0m, in \u001b[0;36mevalr_expr_with_visible\u001b[0;34m(expr, envir)\u001b[0m\n\u001b[1;32m    195\u001b[0m \u001b[38;5;28;01mif\u001b[39;00m error_occured[\u001b[38;5;241m0\u001b[39m]:\n\u001b[0;32m--> 196\u001b[0m     \u001b[38;5;28;01mraise\u001b[39;00m embedded\u001b[38;5;241m.\u001b[39mRRuntimeError(_rinterface\u001b[38;5;241m.\u001b[39m_geterrmessage())\n\u001b[1;32m    197\u001b[0m res \u001b[38;5;241m=\u001b[39m conversion\u001b[38;5;241m.\u001b[39m_cdata_to_rinterface(r_res)\n",
      "\u001b[0;31mRRuntimeError\u001b[0m: Error in install.packages(c(\"arm\", \"rjson\")) : unable to install packages\n",
      "\nDuring handling of the above exception, another exception occurred:\n",
      "\u001b[0;31mRInterpreterError\u001b[0m                         Traceback (most recent call last)",
      "Cell \u001b[0;32mIn[6], line 1\u001b[0m\n\u001b[0;32m----> 1\u001b[0m \u001b[43mget_ipython\u001b[49m\u001b[43m(\u001b[49m\u001b[43m)\u001b[49m\u001b[38;5;241;43m.\u001b[39;49m\u001b[43mrun_cell_magic\u001b[49m\u001b[43m(\u001b[49m\u001b[38;5;124;43m'\u001b[39;49m\u001b[38;5;124;43mR\u001b[39;49m\u001b[38;5;124;43m'\u001b[39;49m\u001b[43m,\u001b[49m\u001b[43m \u001b[49m\u001b[38;5;124;43m'\u001b[39;49m\u001b[38;5;124;43m'\u001b[39;49m\u001b[43m,\u001b[49m\u001b[43m \u001b[49m\u001b[38;5;124;43m'\u001b[39;49m\u001b[38;5;124;43minstall.packages(c(\u001b[39;49m\u001b[38;5;124;43m\"\u001b[39;49m\u001b[38;5;124;43marm\u001b[39;49m\u001b[38;5;124;43m\"\u001b[39;49m\u001b[38;5;124;43m, \u001b[39;49m\u001b[38;5;124;43m\"\u001b[39;49m\u001b[38;5;124;43mrjson\u001b[39;49m\u001b[38;5;124;43m\"\u001b[39;49m\u001b[38;5;124;43m))\u001b[39;49m\u001b[38;5;130;43;01m\\n\u001b[39;49;00m\u001b[38;5;124;43m'\u001b[39;49m\u001b[43m)\u001b[49m\n",
      "File \u001b[0;32m~/Documents/GitHub/statsmodels/.venv/lib/python3.9/site-packages/IPython/core/interactiveshell.py:2517\u001b[0m, in \u001b[0;36mInteractiveShell.run_cell_magic\u001b[0;34m(self, magic_name, line, cell)\u001b[0m\n\u001b[1;32m   2515\u001b[0m \u001b[38;5;28;01mwith\u001b[39;00m \u001b[38;5;28mself\u001b[39m\u001b[38;5;241m.\u001b[39mbuiltin_trap:\n\u001b[1;32m   2516\u001b[0m     args \u001b[38;5;241m=\u001b[39m (magic_arg_s, cell)\n\u001b[0;32m-> 2517\u001b[0m     result \u001b[38;5;241m=\u001b[39m \u001b[43mfn\u001b[49m\u001b[43m(\u001b[49m\u001b[38;5;241;43m*\u001b[39;49m\u001b[43margs\u001b[49m\u001b[43m,\u001b[49m\u001b[43m \u001b[49m\u001b[38;5;241;43m*\u001b[39;49m\u001b[38;5;241;43m*\u001b[39;49m\u001b[43mkwargs\u001b[49m\u001b[43m)\u001b[49m\n\u001b[1;32m   2519\u001b[0m \u001b[38;5;66;03m# The code below prevents the output from being displayed\u001b[39;00m\n\u001b[1;32m   2520\u001b[0m \u001b[38;5;66;03m# when using magics with decorator @output_can_be_silenced\u001b[39;00m\n\u001b[1;32m   2521\u001b[0m \u001b[38;5;66;03m# when the last Python token in the expression is a ';'.\u001b[39;00m\n\u001b[1;32m   2522\u001b[0m \u001b[38;5;28;01mif\u001b[39;00m \u001b[38;5;28mgetattr\u001b[39m(fn, magic\u001b[38;5;241m.\u001b[39mMAGIC_OUTPUT_CAN_BE_SILENCED, \u001b[38;5;28;01mFalse\u001b[39;00m):\n",
      "File \u001b[0;32m~/Documents/GitHub/statsmodels/.venv/lib/python3.9/site-packages/rpy2/ipython/rmagic.py:984\u001b[0m, in \u001b[0;36mRMagics.R\u001b[0;34m(self, line, cell, local_ns)\u001b[0m\n\u001b[1;32m    982\u001b[0m     \u001b[38;5;28;01mif\u001b[39;00m \u001b[38;5;129;01mnot\u001b[39;00m e\u001b[38;5;241m.\u001b[39mstdout\u001b[38;5;241m.\u001b[39mendswith(e\u001b[38;5;241m.\u001b[39merr):\n\u001b[1;32m    983\u001b[0m         \u001b[38;5;28mprint\u001b[39m(e\u001b[38;5;241m.\u001b[39merr)\n\u001b[0;32m--> 984\u001b[0m     \u001b[38;5;28;01mraise\u001b[39;00m e\n\u001b[1;32m    985\u001b[0m \u001b[38;5;28;01mfinally\u001b[39;00m:\n\u001b[1;32m    986\u001b[0m     \u001b[38;5;28;01mif\u001b[39;00m \u001b[38;5;28mself\u001b[39m\u001b[38;5;241m.\u001b[39mdevice \u001b[38;5;129;01min\u001b[39;00m DEVICES_STATIC:\n",
      "File \u001b[0;32m~/Documents/GitHub/statsmodels/.venv/lib/python3.9/site-packages/rpy2/ipython/rmagic.py:949\u001b[0m, in \u001b[0;36mRMagics.R\u001b[0;34m(self, line, cell, local_ns)\u001b[0m\n\u001b[1;32m    947\u001b[0m         return_output \u001b[38;5;241m=\u001b[39m \u001b[38;5;28;01mFalse\u001b[39;00m\n\u001b[1;32m    948\u001b[0m \u001b[38;5;28;01melse\u001b[39;00m:\n\u001b[0;32m--> 949\u001b[0m     text_result, result, visible \u001b[38;5;241m=\u001b[39m \u001b[38;5;28;43mself\u001b[39;49m\u001b[38;5;241;43m.\u001b[39;49m\u001b[43meval\u001b[49m\u001b[43m(\u001b[49m\u001b[43mcode\u001b[49m\u001b[43m)\u001b[49m\n\u001b[1;32m    950\u001b[0m     text_output \u001b[38;5;241m+\u001b[39m\u001b[38;5;241m=\u001b[39m text_result\n\u001b[1;32m    951\u001b[0m     \u001b[38;5;28;01mif\u001b[39;00m visible:\n",
      "File \u001b[0;32m~/Documents/GitHub/statsmodels/.venv/lib/python3.9/site-packages/rpy2/ipython/rmagic.py:413\u001b[0m, in \u001b[0;36mRMagics.eval\u001b[0;34m(self, code)\u001b[0m\n\u001b[1;32m    410\u001b[0m \u001b[38;5;28;01mexcept\u001b[39;00m (ri\u001b[38;5;241m.\u001b[39membedded\u001b[38;5;241m.\u001b[39mRRuntimeError, \u001b[38;5;167;01mValueError\u001b[39;00m) \u001b[38;5;28;01mas\u001b[39;00m exception:\n\u001b[1;32m    411\u001b[0m     \u001b[38;5;66;03m# Otherwise next return seems to have copy of error.\u001b[39;00m\n\u001b[1;32m    412\u001b[0m     warning_or_other_msg \u001b[38;5;241m=\u001b[39m \u001b[38;5;28mself\u001b[39m\u001b[38;5;241m.\u001b[39mflush()\n\u001b[0;32m--> 413\u001b[0m     \u001b[38;5;28;01mraise\u001b[39;00m RInterpreterError(code, \u001b[38;5;28mstr\u001b[39m(exception),\n\u001b[1;32m    414\u001b[0m                             warning_or_other_msg)\n\u001b[1;32m    415\u001b[0m \u001b[38;5;28;01mfinally\u001b[39;00m:\n\u001b[1;32m    416\u001b[0m     ro\u001b[38;5;241m.\u001b[39m_print_deferred_warnings()\n",
      "\u001b[0;31mRInterpreterError\u001b[0m: Failed to parse and evaluate line 'install.packages(c(\"arm\", \"rjson\"))\\n'.\nR error message: 'Error in install.packages(c(\"arm\", \"rjson\")) : unable to install packages'\nR stdout:\nWarning in install.packages(c(\"arm\", \"rjson\")) :\n  'lib = \"/Library/Frameworks/R.framework/Versions/4.3-x86_64/Resources/library\"' is not writable\nError in install.packages(c(\"arm\", \"rjson\")) : unable to install packages"
     ]
    }
   ],
   "source": [
    "%%R\n",
    "install.packages(c(\"arm\", \"rjson\"))"
   ]
  },
  {
   "cell_type": "markdown",
   "metadata": {},
   "source": [
    "Pass the df generated in Python over to R, extract columns to vectors"
   ]
  },
  {
   "cell_type": "code",
   "execution_count": 7,
   "metadata": {},
   "outputs": [
    {
     "name": "stdout",
     "output_type": "stream",
     "text": [
      "  y const         x1 x2\n",
      "0 1     1 -0.2047077  0\n",
      "1 1     1"
     ]
    },
    {
     "name": "stdout",
     "output_type": "stream",
     "text": [
      "  0.4789433  0\n",
      "2 0     1 -0.5194387  0\n",
      "3 0     1 -0.5557303  0\n",
      "4 1     1  1.9657806  0\n",
      "5 1     1  1.3934058  0\n"
     ]
    }
   ],
   "source": [
    "%%R -i df\n",
    "\n",
    "n <- 100\n",
    "x1 <- df$x1\n",
    "x2 <- df$x2\n",
    "y <- df$y\n",
    "\n",
    "head(df)"
   ]
  },
  {
   "cell_type": "markdown",
   "metadata": {},
   "source": [
    "Create models in R from the data generated in Python. "
   ]
  },
  {
   "cell_type": "code",
   "execution_count": 8,
   "metadata": {},
   "outputs": [],
   "source": [
    "%%R\n",
    "\n",
    "model_logit_constant <- arm::bayesglm (y ~ x1 + x2, family=binomial(link=\"logit\"))\n",
    "\n",
    "model_logit_no_constant <- arm::bayesglm (y ~ 0 + x1 + x2, family=binomial(link=\"logit\"))\n",
    "\n",
    "model_probit_constant <- arm::bayesglm (y ~ x1 + x2, family=binomial(link=\"probit\"))\n",
    "\n",
    "model_probit_no_constant <- arm::bayesglm (y ~ 0 + x1 + x2, family=binomial(link=\"probit\"))\n",
    "\n",
    "model_poisson_constant <- arm::bayesglm(y ~ x1 + x2, family=poisson)\n",
    "\n",
    "model_poisson_no_constant <- arm::bayesglm(y ~ 0 + x1 + x2, family=poisson)\n",
    "\n",
    "model_gaussian_constant <- arm::bayesglm(y ~ x1 + x2, family=gaussian)\n",
    "\n",
    "model_gaussian_no_constant <- arm::bayesglm(y ~ 0 + x1 + x2, family=gaussian)"
   ]
  },
  {
   "cell_type": "code",
   "execution_count": 9,
   "metadata": {},
   "outputs": [],
   "source": [
    "%%R\n",
    "\n",
    "make_model_json <- function(model){\n",
    "  model_attrs <- list(as.vector(model$coefficients),\n",
    "                                     as.vector(model$fitted.values),\n",
    "                                     as.vector(model$residuals))\n",
    "  names(model_attrs) <- c(\"params\", \"fittedvalues\", \"resid_working\")\n",
    "  return(model_attrs)\n",
    "}\n",
    "\n",
    "output_this_json <-list(make_model_json(model_logit_constant),\n",
    "                        make_model_json(model_logit_no_constant),\n",
    "                        make_model_json(model_probit_constant),\n",
    "                        make_model_json(model_probit_no_constant),\n",
    "                        make_model_json(model_poisson_constant),\n",
    "                        make_model_json(model_poisson_no_constant),\n",
    "                        make_model_json(model_gaussian_constant),\n",
    "                        make_model_json(model_gaussian_no_constant)\n",
    "                        )\n",
    "                        \n",
    "names(output_this_json) <- c(\"logit_constant\",\n",
    "                             \"logit_no_constant\",\n",
    "                             \"probit_constant\",\n",
    "                             \"probit_no_constant\",\n",
    "                             \"poisson_constant\",\n",
    "                             \"poisson_no_constant\",\n",
    "                             \"gaussian_constant\",\n",
    "                             \"gaussian_no_constant\")\n",
    "\n",
    "json_results <- rjson::toJSON(output_this_json)"
   ]
  },
  {
   "cell_type": "markdown",
   "metadata": {},
   "source": [
    "Pass R model outputs to Python as a json object"
   ]
  },
  {
   "cell_type": "code",
   "execution_count": 10,
   "metadata": {},
   "outputs": [],
   "source": [
    "r_results = json.loads(str(robjects.globalenv['json_results'][0]))"
   ]
  },
  {
   "cell_type": "markdown",
   "metadata": {},
   "source": [
    "Check models with a constant"
   ]
  },
  {
   "cell_type": "code",
   "execution_count": 23,
   "metadata": {},
   "outputs": [
    {
     "name": "stdout",
     "output_type": "stream",
     "text": [
      "Values match between R and Python!\n"
     ]
    }
   ],
   "source": [
    "for family in model_families:\n",
    "    python_model = GLM(endog = df.y, exog = df.drop(columns = \"y\"), family = model_families[family])\n",
    "    python_results = python_model.fit(method=\"BIRLS\")\n",
    "\n",
    "    assert np.isclose(\n",
    "            python_results.fittedvalues,\n",
    "            r_results[family + \"_constant\"][\"fittedvalues\"],\n",
    "            atol=1e-05,\n",
    "        ).all()\n",
    "\n",
    "    assert np.isclose(\n",
    "            python_results.resid_working,\n",
    "            r_results[family + \"_constant\"][\"resid_working\"],\n",
    "            atol=1e-05,\n",
    "        ).all()\n",
    "\n",
    "    assert np.isclose(\n",
    "            python_results.params,\n",
    "            r_results[family + \"_constant\"][\"params\"],\n",
    "            atol=1e-05,\n",
    "        ).all()\n",
    "    \n",
    "print(\"Values match between R and Python!\")"
   ]
  },
  {
   "cell_type": "markdown",
   "metadata": {},
   "source": [
    "Check for models with no constant"
   ]
  },
  {
   "cell_type": "code",
   "execution_count": 25,
   "metadata": {},
   "outputs": [
    {
     "name": "stdout",
     "output_type": "stream",
     "text": [
      "Values match between R and Python!\n"
     ]
    }
   ],
   "source": [
    "for family in model_families:\n",
    "    # drop the const column\n",
    "    python_model = GLM(endog = df.y, exog = df.drop(columns = [\"y\", \"const\"]), family = model_families[family])\n",
    "    python_results = python_model.fit(method=\"BIRLS\")\n",
    "\n",
    "    assert np.isclose(\n",
    "            python_results.fittedvalues,\n",
    "            r_results[family + \"_no_constant\"][\"fittedvalues\"],\n",
    "            atol=1e-05,\n",
    "        ).all()\n",
    "\n",
    "    assert np.isclose(\n",
    "            python_results.resid_working,\n",
    "            r_results[family + \"_no_constant\"][\"resid_working\"],\n",
    "            atol=1e-05,\n",
    "        ).all()\n",
    "\n",
    "    assert np.isclose(\n",
    "            python_results.params,\n",
    "            r_results[family + \"_no_constant\"][\"params\"],\n",
    "            atol=1e-05,\n",
    "        ).all()\n",
    "    \n",
    "print(\"Values match between R and Python!\")"
   ]
  },
  {
   "cell_type": "code",
   "execution_count": null,
   "metadata": {},
   "outputs": [],
   "source": []
  }
 ],
 "metadata": {
  "kernelspec": {
   "display_name": ".venv",
   "language": "python",
   "name": "python3"
  },
  "language_info": {
   "codemirror_mode": {
    "name": "ipython",
    "version": 3
   },
   "file_extension": ".py",
   "mimetype": "text/x-python",
   "name": "python",
   "nbconvert_exporter": "python",
   "pygments_lexer": "ipython3",
   "version": "3.9.12"
  }
 },
 "nbformat": 4,
 "nbformat_minor": 2
}
